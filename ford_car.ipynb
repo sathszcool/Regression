{
 "cells": [
  {
   "cell_type": "code",
   "execution_count": 1,
   "id": "1d9c1502",
   "metadata": {},
   "outputs": [],
   "source": [
    "import pandas as pd\n",
    "import numpy as np\n",
    "import matplotlib.pyplot as plt\n",
    "import seaborn as sns\n",
    "import warnings\n",
    "warnings.filterwarnings('ignore')"
   ]
  },
  {
   "cell_type": "code",
   "execution_count": 2,
   "id": "8a6454a7",
   "metadata": {},
   "outputs": [],
   "source": [
    "data= pd.read_csv('ford.csv')"
   ]
  },
  {
   "cell_type": "code",
   "execution_count": 3,
   "id": "e0b8473f",
   "metadata": {},
   "outputs": [],
   "source": [
    "#pd.set_option('display.max_rows', None)"
   ]
  },
  {
   "cell_type": "code",
   "execution_count": 4,
   "id": "aa52a6f1",
   "metadata": {},
   "outputs": [],
   "source": [
    "pd.set_option('display.max_columns', None)"
   ]
  },
  {
   "cell_type": "code",
   "execution_count": 5,
   "id": "60d567fc",
   "metadata": {},
   "outputs": [
    {
     "data": {
      "text/html": [
       "<div>\n",
       "<style scoped>\n",
       "    .dataframe tbody tr th:only-of-type {\n",
       "        vertical-align: middle;\n",
       "    }\n",
       "\n",
       "    .dataframe tbody tr th {\n",
       "        vertical-align: top;\n",
       "    }\n",
       "\n",
       "    .dataframe thead th {\n",
       "        text-align: right;\n",
       "    }\n",
       "</style>\n",
       "<table border=\"1\" class=\"dataframe\">\n",
       "  <thead>\n",
       "    <tr style=\"text-align: right;\">\n",
       "      <th></th>\n",
       "      <th>model</th>\n",
       "      <th>year</th>\n",
       "      <th>price</th>\n",
       "      <th>transmission</th>\n",
       "      <th>mileage</th>\n",
       "      <th>fuelType</th>\n",
       "      <th>tax</th>\n",
       "      <th>mpg</th>\n",
       "      <th>engineSize</th>\n",
       "    </tr>\n",
       "  </thead>\n",
       "  <tbody>\n",
       "    <tr>\n",
       "      <th>0</th>\n",
       "      <td>Fiesta</td>\n",
       "      <td>2017</td>\n",
       "      <td>12000</td>\n",
       "      <td>Automatic</td>\n",
       "      <td>15944</td>\n",
       "      <td>Petrol</td>\n",
       "      <td>150</td>\n",
       "      <td>57.7</td>\n",
       "      <td>1.0</td>\n",
       "    </tr>\n",
       "    <tr>\n",
       "      <th>1</th>\n",
       "      <td>Focus</td>\n",
       "      <td>2018</td>\n",
       "      <td>14000</td>\n",
       "      <td>Manual</td>\n",
       "      <td>9083</td>\n",
       "      <td>Petrol</td>\n",
       "      <td>150</td>\n",
       "      <td>57.7</td>\n",
       "      <td>1.0</td>\n",
       "    </tr>\n",
       "    <tr>\n",
       "      <th>2</th>\n",
       "      <td>Focus</td>\n",
       "      <td>2017</td>\n",
       "      <td>13000</td>\n",
       "      <td>Manual</td>\n",
       "      <td>12456</td>\n",
       "      <td>Petrol</td>\n",
       "      <td>150</td>\n",
       "      <td>57.7</td>\n",
       "      <td>1.0</td>\n",
       "    </tr>\n",
       "    <tr>\n",
       "      <th>3</th>\n",
       "      <td>Fiesta</td>\n",
       "      <td>2019</td>\n",
       "      <td>17500</td>\n",
       "      <td>Manual</td>\n",
       "      <td>10460</td>\n",
       "      <td>Petrol</td>\n",
       "      <td>145</td>\n",
       "      <td>40.3</td>\n",
       "      <td>1.5</td>\n",
       "    </tr>\n",
       "    <tr>\n",
       "      <th>4</th>\n",
       "      <td>Fiesta</td>\n",
       "      <td>2019</td>\n",
       "      <td>16500</td>\n",
       "      <td>Automatic</td>\n",
       "      <td>1482</td>\n",
       "      <td>Petrol</td>\n",
       "      <td>145</td>\n",
       "      <td>48.7</td>\n",
       "      <td>1.0</td>\n",
       "    </tr>\n",
       "    <tr>\n",
       "      <th>...</th>\n",
       "      <td>...</td>\n",
       "      <td>...</td>\n",
       "      <td>...</td>\n",
       "      <td>...</td>\n",
       "      <td>...</td>\n",
       "      <td>...</td>\n",
       "      <td>...</td>\n",
       "      <td>...</td>\n",
       "      <td>...</td>\n",
       "    </tr>\n",
       "    <tr>\n",
       "      <th>17961</th>\n",
       "      <td>B-MAX</td>\n",
       "      <td>2017</td>\n",
       "      <td>8999</td>\n",
       "      <td>Manual</td>\n",
       "      <td>16700</td>\n",
       "      <td>Petrol</td>\n",
       "      <td>150</td>\n",
       "      <td>47.1</td>\n",
       "      <td>1.4</td>\n",
       "    </tr>\n",
       "    <tr>\n",
       "      <th>17962</th>\n",
       "      <td>B-MAX</td>\n",
       "      <td>2014</td>\n",
       "      <td>7499</td>\n",
       "      <td>Manual</td>\n",
       "      <td>40700</td>\n",
       "      <td>Petrol</td>\n",
       "      <td>30</td>\n",
       "      <td>57.7</td>\n",
       "      <td>1.0</td>\n",
       "    </tr>\n",
       "    <tr>\n",
       "      <th>17963</th>\n",
       "      <td>Focus</td>\n",
       "      <td>2015</td>\n",
       "      <td>9999</td>\n",
       "      <td>Manual</td>\n",
       "      <td>7010</td>\n",
       "      <td>Diesel</td>\n",
       "      <td>20</td>\n",
       "      <td>67.3</td>\n",
       "      <td>1.6</td>\n",
       "    </tr>\n",
       "    <tr>\n",
       "      <th>17964</th>\n",
       "      <td>KA</td>\n",
       "      <td>2018</td>\n",
       "      <td>8299</td>\n",
       "      <td>Manual</td>\n",
       "      <td>5007</td>\n",
       "      <td>Petrol</td>\n",
       "      <td>145</td>\n",
       "      <td>57.7</td>\n",
       "      <td>1.2</td>\n",
       "    </tr>\n",
       "    <tr>\n",
       "      <th>17965</th>\n",
       "      <td>Focus</td>\n",
       "      <td>2015</td>\n",
       "      <td>8299</td>\n",
       "      <td>Manual</td>\n",
       "      <td>5007</td>\n",
       "      <td>Petrol</td>\n",
       "      <td>22</td>\n",
       "      <td>57.7</td>\n",
       "      <td>1.0</td>\n",
       "    </tr>\n",
       "  </tbody>\n",
       "</table>\n",
       "<p>17966 rows × 9 columns</p>\n",
       "</div>"
      ],
      "text/plain": [
       "         model  year  price transmission  mileage fuelType  tax   mpg  \\\n",
       "0       Fiesta  2017  12000    Automatic    15944   Petrol  150  57.7   \n",
       "1        Focus  2018  14000       Manual     9083   Petrol  150  57.7   \n",
       "2        Focus  2017  13000       Manual    12456   Petrol  150  57.7   \n",
       "3       Fiesta  2019  17500       Manual    10460   Petrol  145  40.3   \n",
       "4       Fiesta  2019  16500    Automatic     1482   Petrol  145  48.7   \n",
       "...        ...   ...    ...          ...      ...      ...  ...   ...   \n",
       "17961    B-MAX  2017   8999       Manual    16700   Petrol  150  47.1   \n",
       "17962    B-MAX  2014   7499       Manual    40700   Petrol   30  57.7   \n",
       "17963    Focus  2015   9999       Manual     7010   Diesel   20  67.3   \n",
       "17964       KA  2018   8299       Manual     5007   Petrol  145  57.7   \n",
       "17965    Focus  2015   8299       Manual     5007   Petrol   22  57.7   \n",
       "\n",
       "       engineSize  \n",
       "0             1.0  \n",
       "1             1.0  \n",
       "2             1.0  \n",
       "3             1.5  \n",
       "4             1.0  \n",
       "...           ...  \n",
       "17961         1.4  \n",
       "17962         1.0  \n",
       "17963         1.6  \n",
       "17964         1.2  \n",
       "17965         1.0  \n",
       "\n",
       "[17966 rows x 9 columns]"
      ]
     },
     "execution_count": 5,
     "metadata": {},
     "output_type": "execute_result"
    }
   ],
   "source": [
    "data"
   ]
  },
  {
   "cell_type": "markdown",
   "id": "04752250",
   "metadata": {},
   "source": [
    "# Business Statement"
   ]
  },
  {
   "cell_type": "markdown",
   "id": "075983de",
   "metadata": {},
   "source": [
    "By using this features, we have to predict car price"
   ]
  },
  {
   "cell_type": "code",
   "execution_count": 6,
   "id": "9ea5db9d",
   "metadata": {},
   "outputs": [],
   "source": [
    "data['price']= data['price']* 81.77"
   ]
  },
  {
   "cell_type": "code",
   "execution_count": 7,
   "id": "bca9e567",
   "metadata": {},
   "outputs": [
    {
     "data": {
      "text/html": [
       "<div>\n",
       "<style scoped>\n",
       "    .dataframe tbody tr th:only-of-type {\n",
       "        vertical-align: middle;\n",
       "    }\n",
       "\n",
       "    .dataframe tbody tr th {\n",
       "        vertical-align: top;\n",
       "    }\n",
       "\n",
       "    .dataframe thead th {\n",
       "        text-align: right;\n",
       "    }\n",
       "</style>\n",
       "<table border=\"1\" class=\"dataframe\">\n",
       "  <thead>\n",
       "    <tr style=\"text-align: right;\">\n",
       "      <th></th>\n",
       "      <th>model</th>\n",
       "      <th>year</th>\n",
       "      <th>price</th>\n",
       "      <th>transmission</th>\n",
       "      <th>mileage</th>\n",
       "      <th>fuelType</th>\n",
       "      <th>tax</th>\n",
       "      <th>mpg</th>\n",
       "      <th>engineSize</th>\n",
       "    </tr>\n",
       "  </thead>\n",
       "  <tbody>\n",
       "    <tr>\n",
       "      <th>0</th>\n",
       "      <td>Fiesta</td>\n",
       "      <td>2017</td>\n",
       "      <td>981240.00</td>\n",
       "      <td>Automatic</td>\n",
       "      <td>15944</td>\n",
       "      <td>Petrol</td>\n",
       "      <td>150</td>\n",
       "      <td>57.7</td>\n",
       "      <td>1.0</td>\n",
       "    </tr>\n",
       "    <tr>\n",
       "      <th>1</th>\n",
       "      <td>Focus</td>\n",
       "      <td>2018</td>\n",
       "      <td>1144780.00</td>\n",
       "      <td>Manual</td>\n",
       "      <td>9083</td>\n",
       "      <td>Petrol</td>\n",
       "      <td>150</td>\n",
       "      <td>57.7</td>\n",
       "      <td>1.0</td>\n",
       "    </tr>\n",
       "    <tr>\n",
       "      <th>2</th>\n",
       "      <td>Focus</td>\n",
       "      <td>2017</td>\n",
       "      <td>1063010.00</td>\n",
       "      <td>Manual</td>\n",
       "      <td>12456</td>\n",
       "      <td>Petrol</td>\n",
       "      <td>150</td>\n",
       "      <td>57.7</td>\n",
       "      <td>1.0</td>\n",
       "    </tr>\n",
       "    <tr>\n",
       "      <th>3</th>\n",
       "      <td>Fiesta</td>\n",
       "      <td>2019</td>\n",
       "      <td>1430975.00</td>\n",
       "      <td>Manual</td>\n",
       "      <td>10460</td>\n",
       "      <td>Petrol</td>\n",
       "      <td>145</td>\n",
       "      <td>40.3</td>\n",
       "      <td>1.5</td>\n",
       "    </tr>\n",
       "    <tr>\n",
       "      <th>4</th>\n",
       "      <td>Fiesta</td>\n",
       "      <td>2019</td>\n",
       "      <td>1349205.00</td>\n",
       "      <td>Automatic</td>\n",
       "      <td>1482</td>\n",
       "      <td>Petrol</td>\n",
       "      <td>145</td>\n",
       "      <td>48.7</td>\n",
       "      <td>1.0</td>\n",
       "    </tr>\n",
       "    <tr>\n",
       "      <th>...</th>\n",
       "      <td>...</td>\n",
       "      <td>...</td>\n",
       "      <td>...</td>\n",
       "      <td>...</td>\n",
       "      <td>...</td>\n",
       "      <td>...</td>\n",
       "      <td>...</td>\n",
       "      <td>...</td>\n",
       "      <td>...</td>\n",
       "    </tr>\n",
       "    <tr>\n",
       "      <th>17961</th>\n",
       "      <td>B-MAX</td>\n",
       "      <td>2017</td>\n",
       "      <td>735848.23</td>\n",
       "      <td>Manual</td>\n",
       "      <td>16700</td>\n",
       "      <td>Petrol</td>\n",
       "      <td>150</td>\n",
       "      <td>47.1</td>\n",
       "      <td>1.4</td>\n",
       "    </tr>\n",
       "    <tr>\n",
       "      <th>17962</th>\n",
       "      <td>B-MAX</td>\n",
       "      <td>2014</td>\n",
       "      <td>613193.23</td>\n",
       "      <td>Manual</td>\n",
       "      <td>40700</td>\n",
       "      <td>Petrol</td>\n",
       "      <td>30</td>\n",
       "      <td>57.7</td>\n",
       "      <td>1.0</td>\n",
       "    </tr>\n",
       "    <tr>\n",
       "      <th>17963</th>\n",
       "      <td>Focus</td>\n",
       "      <td>2015</td>\n",
       "      <td>817618.23</td>\n",
       "      <td>Manual</td>\n",
       "      <td>7010</td>\n",
       "      <td>Diesel</td>\n",
       "      <td>20</td>\n",
       "      <td>67.3</td>\n",
       "      <td>1.6</td>\n",
       "    </tr>\n",
       "    <tr>\n",
       "      <th>17964</th>\n",
       "      <td>KA</td>\n",
       "      <td>2018</td>\n",
       "      <td>678609.23</td>\n",
       "      <td>Manual</td>\n",
       "      <td>5007</td>\n",
       "      <td>Petrol</td>\n",
       "      <td>145</td>\n",
       "      <td>57.7</td>\n",
       "      <td>1.2</td>\n",
       "    </tr>\n",
       "    <tr>\n",
       "      <th>17965</th>\n",
       "      <td>Focus</td>\n",
       "      <td>2015</td>\n",
       "      <td>678609.23</td>\n",
       "      <td>Manual</td>\n",
       "      <td>5007</td>\n",
       "      <td>Petrol</td>\n",
       "      <td>22</td>\n",
       "      <td>57.7</td>\n",
       "      <td>1.0</td>\n",
       "    </tr>\n",
       "  </tbody>\n",
       "</table>\n",
       "<p>17966 rows × 9 columns</p>\n",
       "</div>"
      ],
      "text/plain": [
       "         model  year       price transmission  mileage fuelType  tax   mpg  \\\n",
       "0       Fiesta  2017   981240.00    Automatic    15944   Petrol  150  57.7   \n",
       "1        Focus  2018  1144780.00       Manual     9083   Petrol  150  57.7   \n",
       "2        Focus  2017  1063010.00       Manual    12456   Petrol  150  57.7   \n",
       "3       Fiesta  2019  1430975.00       Manual    10460   Petrol  145  40.3   \n",
       "4       Fiesta  2019  1349205.00    Automatic     1482   Petrol  145  48.7   \n",
       "...        ...   ...         ...          ...      ...      ...  ...   ...   \n",
       "17961    B-MAX  2017   735848.23       Manual    16700   Petrol  150  47.1   \n",
       "17962    B-MAX  2014   613193.23       Manual    40700   Petrol   30  57.7   \n",
       "17963    Focus  2015   817618.23       Manual     7010   Diesel   20  67.3   \n",
       "17964       KA  2018   678609.23       Manual     5007   Petrol  145  57.7   \n",
       "17965    Focus  2015   678609.23       Manual     5007   Petrol   22  57.7   \n",
       "\n",
       "       engineSize  \n",
       "0             1.0  \n",
       "1             1.0  \n",
       "2             1.0  \n",
       "3             1.5  \n",
       "4             1.0  \n",
       "...           ...  \n",
       "17961         1.4  \n",
       "17962         1.0  \n",
       "17963         1.6  \n",
       "17964         1.2  \n",
       "17965         1.0  \n",
       "\n",
       "[17966 rows x 9 columns]"
      ]
     },
     "execution_count": 7,
     "metadata": {},
     "output_type": "execute_result"
    }
   ],
   "source": [
    "data"
   ]
  },
  {
   "cell_type": "code",
   "execution_count": 8,
   "id": "3b4b6c32",
   "metadata": {},
   "outputs": [
    {
     "name": "stdout",
     "output_type": "stream",
     "text": [
      "<class 'pandas.core.frame.DataFrame'>\n",
      "RangeIndex: 17966 entries, 0 to 17965\n",
      "Data columns (total 9 columns):\n",
      " #   Column        Non-Null Count  Dtype  \n",
      "---  ------        --------------  -----  \n",
      " 0   model         17966 non-null  object \n",
      " 1   year          17966 non-null  int64  \n",
      " 2   price         17966 non-null  float64\n",
      " 3   transmission  17966 non-null  object \n",
      " 4   mileage       17966 non-null  int64  \n",
      " 5   fuelType      17966 non-null  object \n",
      " 6   tax           17966 non-null  int64  \n",
      " 7   mpg           17966 non-null  float64\n",
      " 8   engineSize    17966 non-null  float64\n",
      "dtypes: float64(3), int64(3), object(3)\n",
      "memory usage: 1.2+ MB\n"
     ]
    }
   ],
   "source": [
    "data.info()"
   ]
  },
  {
   "cell_type": "code",
   "execution_count": 9,
   "id": "4b1b83be",
   "metadata": {},
   "outputs": [
    {
     "data": {
      "text/html": [
       "<div>\n",
       "<style scoped>\n",
       "    .dataframe tbody tr th:only-of-type {\n",
       "        vertical-align: middle;\n",
       "    }\n",
       "\n",
       "    .dataframe tbody tr th {\n",
       "        vertical-align: top;\n",
       "    }\n",
       "\n",
       "    .dataframe thead th {\n",
       "        text-align: right;\n",
       "    }\n",
       "</style>\n",
       "<table border=\"1\" class=\"dataframe\">\n",
       "  <thead>\n",
       "    <tr style=\"text-align: right;\">\n",
       "      <th></th>\n",
       "      <th>year</th>\n",
       "      <th>price</th>\n",
       "      <th>mileage</th>\n",
       "      <th>tax</th>\n",
       "      <th>mpg</th>\n",
       "      <th>engineSize</th>\n",
       "    </tr>\n",
       "  </thead>\n",
       "  <tbody>\n",
       "    <tr>\n",
       "      <th>count</th>\n",
       "      <td>17966.000000</td>\n",
       "      <td>1.796600e+04</td>\n",
       "      <td>17966.000000</td>\n",
       "      <td>17966.000000</td>\n",
       "      <td>17966.000000</td>\n",
       "      <td>17966.000000</td>\n",
       "    </tr>\n",
       "    <tr>\n",
       "      <th>mean</th>\n",
       "      <td>2016.866470</td>\n",
       "      <td>1.004098e+06</td>\n",
       "      <td>23362.608761</td>\n",
       "      <td>113.329456</td>\n",
       "      <td>57.906980</td>\n",
       "      <td>1.350807</td>\n",
       "    </tr>\n",
       "    <tr>\n",
       "      <th>std</th>\n",
       "      <td>2.050336</td>\n",
       "      <td>3.876997e+05</td>\n",
       "      <td>19472.054349</td>\n",
       "      <td>62.012456</td>\n",
       "      <td>10.125696</td>\n",
       "      <td>0.432367</td>\n",
       "    </tr>\n",
       "    <tr>\n",
       "      <th>min</th>\n",
       "      <td>1996.000000</td>\n",
       "      <td>4.047615e+04</td>\n",
       "      <td>1.000000</td>\n",
       "      <td>0.000000</td>\n",
       "      <td>20.800000</td>\n",
       "      <td>0.000000</td>\n",
       "    </tr>\n",
       "    <tr>\n",
       "      <th>25%</th>\n",
       "      <td>2016.000000</td>\n",
       "      <td>7.358482e+05</td>\n",
       "      <td>9987.000000</td>\n",
       "      <td>30.000000</td>\n",
       "      <td>52.300000</td>\n",
       "      <td>1.000000</td>\n",
       "    </tr>\n",
       "    <tr>\n",
       "      <th>50%</th>\n",
       "      <td>2017.000000</td>\n",
       "      <td>9.232651e+05</td>\n",
       "      <td>18242.500000</td>\n",
       "      <td>145.000000</td>\n",
       "      <td>58.900000</td>\n",
       "      <td>1.200000</td>\n",
       "    </tr>\n",
       "    <tr>\n",
       "      <th>75%</th>\n",
       "      <td>2018.000000</td>\n",
       "      <td>1.250999e+06</td>\n",
       "      <td>31060.000000</td>\n",
       "      <td>145.000000</td>\n",
       "      <td>65.700000</td>\n",
       "      <td>1.500000</td>\n",
       "    </tr>\n",
       "    <tr>\n",
       "      <th>max</th>\n",
       "      <td>2060.000000</td>\n",
       "      <td>4.496941e+06</td>\n",
       "      <td>177644.000000</td>\n",
       "      <td>580.000000</td>\n",
       "      <td>201.800000</td>\n",
       "      <td>5.000000</td>\n",
       "    </tr>\n",
       "  </tbody>\n",
       "</table>\n",
       "</div>"
      ],
      "text/plain": [
       "               year         price        mileage           tax           mpg  \\\n",
       "count  17966.000000  1.796600e+04   17966.000000  17966.000000  17966.000000   \n",
       "mean    2016.866470  1.004098e+06   23362.608761    113.329456     57.906980   \n",
       "std        2.050336  3.876997e+05   19472.054349     62.012456     10.125696   \n",
       "min     1996.000000  4.047615e+04       1.000000      0.000000     20.800000   \n",
       "25%     2016.000000  7.358482e+05    9987.000000     30.000000     52.300000   \n",
       "50%     2017.000000  9.232651e+05   18242.500000    145.000000     58.900000   \n",
       "75%     2018.000000  1.250999e+06   31060.000000    145.000000     65.700000   \n",
       "max     2060.000000  4.496941e+06  177644.000000    580.000000    201.800000   \n",
       "\n",
       "         engineSize  \n",
       "count  17966.000000  \n",
       "mean       1.350807  \n",
       "std        0.432367  \n",
       "min        0.000000  \n",
       "25%        1.000000  \n",
       "50%        1.200000  \n",
       "75%        1.500000  \n",
       "max        5.000000  "
      ]
     },
     "execution_count": 9,
     "metadata": {},
     "output_type": "execute_result"
    }
   ],
   "source": [
    "data.describe()"
   ]
  },
  {
   "cell_type": "code",
   "execution_count": 10,
   "id": "7d692435",
   "metadata": {},
   "outputs": [
    {
     "data": {
      "text/plain": [
       "model           0\n",
       "year            0\n",
       "price           0\n",
       "transmission    0\n",
       "mileage         0\n",
       "fuelType        0\n",
       "tax             0\n",
       "mpg             0\n",
       "engineSize      0\n",
       "dtype: int64"
      ]
     },
     "execution_count": 10,
     "metadata": {},
     "output_type": "execute_result"
    }
   ],
   "source": [
    "data.isnull().sum()"
   ]
  },
  {
   "cell_type": "code",
   "execution_count": 11,
   "id": "c70f93ab",
   "metadata": {},
   "outputs": [
    {
     "data": {
      "text/html": [
       "<div>\n",
       "<style scoped>\n",
       "    .dataframe tbody tr th:only-of-type {\n",
       "        vertical-align: middle;\n",
       "    }\n",
       "\n",
       "    .dataframe tbody tr th {\n",
       "        vertical-align: top;\n",
       "    }\n",
       "\n",
       "    .dataframe thead th {\n",
       "        text-align: right;\n",
       "    }\n",
       "</style>\n",
       "<table border=\"1\" class=\"dataframe\">\n",
       "  <thead>\n",
       "    <tr style=\"text-align: right;\">\n",
       "      <th></th>\n",
       "      <th>model</th>\n",
       "      <th>transmission</th>\n",
       "      <th>fuelType</th>\n",
       "    </tr>\n",
       "  </thead>\n",
       "  <tbody>\n",
       "    <tr>\n",
       "      <th>count</th>\n",
       "      <td>17966</td>\n",
       "      <td>17966</td>\n",
       "      <td>17966</td>\n",
       "    </tr>\n",
       "    <tr>\n",
       "      <th>unique</th>\n",
       "      <td>24</td>\n",
       "      <td>3</td>\n",
       "      <td>5</td>\n",
       "    </tr>\n",
       "    <tr>\n",
       "      <th>top</th>\n",
       "      <td>Fiesta</td>\n",
       "      <td>Manual</td>\n",
       "      <td>Petrol</td>\n",
       "    </tr>\n",
       "    <tr>\n",
       "      <th>freq</th>\n",
       "      <td>6557</td>\n",
       "      <td>15518</td>\n",
       "      <td>12179</td>\n",
       "    </tr>\n",
       "  </tbody>\n",
       "</table>\n",
       "</div>"
      ],
      "text/plain": [
       "          model transmission fuelType\n",
       "count     17966        17966    17966\n",
       "unique       24            3        5\n",
       "top      Fiesta       Manual   Petrol\n",
       "freq       6557        15518    12179"
      ]
     },
     "execution_count": 11,
     "metadata": {},
     "output_type": "execute_result"
    }
   ],
   "source": [
    "data.describe(include='O')"
   ]
  },
  {
   "cell_type": "code",
   "execution_count": 12,
   "id": "26635f96",
   "metadata": {},
   "outputs": [
    {
     "data": {
      "text/html": [
       "<div>\n",
       "<style scoped>\n",
       "    .dataframe tbody tr th:only-of-type {\n",
       "        vertical-align: middle;\n",
       "    }\n",
       "\n",
       "    .dataframe tbody tr th {\n",
       "        vertical-align: top;\n",
       "    }\n",
       "\n",
       "    .dataframe thead th {\n",
       "        text-align: right;\n",
       "    }\n",
       "</style>\n",
       "<table border=\"1\" class=\"dataframe\">\n",
       "  <thead>\n",
       "    <tr style=\"text-align: right;\">\n",
       "      <th></th>\n",
       "      <th>model</th>\n",
       "      <th>year</th>\n",
       "      <th>price</th>\n",
       "      <th>transmission</th>\n",
       "      <th>mileage</th>\n",
       "      <th>fuelType</th>\n",
       "      <th>tax</th>\n",
       "      <th>mpg</th>\n",
       "      <th>engineSize</th>\n",
       "    </tr>\n",
       "  </thead>\n",
       "  <tbody>\n",
       "    <tr>\n",
       "      <th>0</th>\n",
       "      <td>Fiesta</td>\n",
       "      <td>2017</td>\n",
       "      <td>981240.0</td>\n",
       "      <td>Automatic</td>\n",
       "      <td>15944</td>\n",
       "      <td>Petrol</td>\n",
       "      <td>150</td>\n",
       "      <td>57.7</td>\n",
       "      <td>1.0</td>\n",
       "    </tr>\n",
       "    <tr>\n",
       "      <th>1</th>\n",
       "      <td>Focus</td>\n",
       "      <td>2018</td>\n",
       "      <td>1144780.0</td>\n",
       "      <td>Manual</td>\n",
       "      <td>9083</td>\n",
       "      <td>Petrol</td>\n",
       "      <td>150</td>\n",
       "      <td>57.7</td>\n",
       "      <td>1.0</td>\n",
       "    </tr>\n",
       "    <tr>\n",
       "      <th>2</th>\n",
       "      <td>Focus</td>\n",
       "      <td>2017</td>\n",
       "      <td>1063010.0</td>\n",
       "      <td>Manual</td>\n",
       "      <td>12456</td>\n",
       "      <td>Petrol</td>\n",
       "      <td>150</td>\n",
       "      <td>57.7</td>\n",
       "      <td>1.0</td>\n",
       "    </tr>\n",
       "    <tr>\n",
       "      <th>3</th>\n",
       "      <td>Fiesta</td>\n",
       "      <td>2019</td>\n",
       "      <td>1430975.0</td>\n",
       "      <td>Manual</td>\n",
       "      <td>10460</td>\n",
       "      <td>Petrol</td>\n",
       "      <td>145</td>\n",
       "      <td>40.3</td>\n",
       "      <td>1.5</td>\n",
       "    </tr>\n",
       "    <tr>\n",
       "      <th>4</th>\n",
       "      <td>Fiesta</td>\n",
       "      <td>2019</td>\n",
       "      <td>1349205.0</td>\n",
       "      <td>Automatic</td>\n",
       "      <td>1482</td>\n",
       "      <td>Petrol</td>\n",
       "      <td>145</td>\n",
       "      <td>48.7</td>\n",
       "      <td>1.0</td>\n",
       "    </tr>\n",
       "  </tbody>\n",
       "</table>\n",
       "</div>"
      ],
      "text/plain": [
       "     model  year      price transmission  mileage fuelType  tax   mpg  \\\n",
       "0   Fiesta  2017   981240.0    Automatic    15944   Petrol  150  57.7   \n",
       "1    Focus  2018  1144780.0       Manual     9083   Petrol  150  57.7   \n",
       "2    Focus  2017  1063010.0       Manual    12456   Petrol  150  57.7   \n",
       "3   Fiesta  2019  1430975.0       Manual    10460   Petrol  145  40.3   \n",
       "4   Fiesta  2019  1349205.0    Automatic     1482   Petrol  145  48.7   \n",
       "\n",
       "   engineSize  \n",
       "0         1.0  \n",
       "1         1.0  \n",
       "2         1.0  \n",
       "3         1.5  \n",
       "4         1.0  "
      ]
     },
     "execution_count": 12,
     "metadata": {},
     "output_type": "execute_result"
    }
   ],
   "source": [
    "data.head()"
   ]
  },
  {
   "cell_type": "code",
   "execution_count": 13,
   "id": "589a9e25",
   "metadata": {},
   "outputs": [
    {
     "data": {
      "text/html": [
       "<div>\n",
       "<style scoped>\n",
       "    .dataframe tbody tr th:only-of-type {\n",
       "        vertical-align: middle;\n",
       "    }\n",
       "\n",
       "    .dataframe tbody tr th {\n",
       "        vertical-align: top;\n",
       "    }\n",
       "\n",
       "    .dataframe thead th {\n",
       "        text-align: right;\n",
       "    }\n",
       "</style>\n",
       "<table border=\"1\" class=\"dataframe\">\n",
       "  <thead>\n",
       "    <tr style=\"text-align: right;\">\n",
       "      <th></th>\n",
       "      <th>model</th>\n",
       "      <th>year</th>\n",
       "      <th>price</th>\n",
       "      <th>transmission</th>\n",
       "      <th>mileage</th>\n",
       "      <th>fuelType</th>\n",
       "      <th>tax</th>\n",
       "      <th>mpg</th>\n",
       "      <th>engineSize</th>\n",
       "    </tr>\n",
       "  </thead>\n",
       "  <tbody>\n",
       "    <tr>\n",
       "      <th>17961</th>\n",
       "      <td>B-MAX</td>\n",
       "      <td>2017</td>\n",
       "      <td>735848.23</td>\n",
       "      <td>Manual</td>\n",
       "      <td>16700</td>\n",
       "      <td>Petrol</td>\n",
       "      <td>150</td>\n",
       "      <td>47.1</td>\n",
       "      <td>1.4</td>\n",
       "    </tr>\n",
       "    <tr>\n",
       "      <th>17962</th>\n",
       "      <td>B-MAX</td>\n",
       "      <td>2014</td>\n",
       "      <td>613193.23</td>\n",
       "      <td>Manual</td>\n",
       "      <td>40700</td>\n",
       "      <td>Petrol</td>\n",
       "      <td>30</td>\n",
       "      <td>57.7</td>\n",
       "      <td>1.0</td>\n",
       "    </tr>\n",
       "    <tr>\n",
       "      <th>17963</th>\n",
       "      <td>Focus</td>\n",
       "      <td>2015</td>\n",
       "      <td>817618.23</td>\n",
       "      <td>Manual</td>\n",
       "      <td>7010</td>\n",
       "      <td>Diesel</td>\n",
       "      <td>20</td>\n",
       "      <td>67.3</td>\n",
       "      <td>1.6</td>\n",
       "    </tr>\n",
       "    <tr>\n",
       "      <th>17964</th>\n",
       "      <td>KA</td>\n",
       "      <td>2018</td>\n",
       "      <td>678609.23</td>\n",
       "      <td>Manual</td>\n",
       "      <td>5007</td>\n",
       "      <td>Petrol</td>\n",
       "      <td>145</td>\n",
       "      <td>57.7</td>\n",
       "      <td>1.2</td>\n",
       "    </tr>\n",
       "    <tr>\n",
       "      <th>17965</th>\n",
       "      <td>Focus</td>\n",
       "      <td>2015</td>\n",
       "      <td>678609.23</td>\n",
       "      <td>Manual</td>\n",
       "      <td>5007</td>\n",
       "      <td>Petrol</td>\n",
       "      <td>22</td>\n",
       "      <td>57.7</td>\n",
       "      <td>1.0</td>\n",
       "    </tr>\n",
       "  </tbody>\n",
       "</table>\n",
       "</div>"
      ],
      "text/plain": [
       "        model  year      price transmission  mileage fuelType  tax   mpg  \\\n",
       "17961   B-MAX  2017  735848.23       Manual    16700   Petrol  150  47.1   \n",
       "17962   B-MAX  2014  613193.23       Manual    40700   Petrol   30  57.7   \n",
       "17963   Focus  2015  817618.23       Manual     7010   Diesel   20  67.3   \n",
       "17964      KA  2018  678609.23       Manual     5007   Petrol  145  57.7   \n",
       "17965   Focus  2015  678609.23       Manual     5007   Petrol   22  57.7   \n",
       "\n",
       "       engineSize  \n",
       "17961         1.4  \n",
       "17962         1.0  \n",
       "17963         1.6  \n",
       "17964         1.2  \n",
       "17965         1.0  "
      ]
     },
     "execution_count": 13,
     "metadata": {},
     "output_type": "execute_result"
    }
   ],
   "source": [
    "data.tail()"
   ]
  },
  {
   "cell_type": "code",
   "execution_count": 14,
   "id": "454f2340",
   "metadata": {},
   "outputs": [
    {
     "data": {
      "text/plain": [
       "(17966, 9)"
      ]
     },
     "execution_count": 14,
     "metadata": {},
     "output_type": "execute_result"
    }
   ],
   "source": [
    "data.shape"
   ]
  },
  {
   "cell_type": "code",
   "execution_count": 15,
   "id": "fc2b9329",
   "metadata": {},
   "outputs": [
    {
     "data": {
      "text/plain": [
       "154"
      ]
     },
     "execution_count": 15,
     "metadata": {},
     "output_type": "execute_result"
    }
   ],
   "source": [
    "data.duplicated().sum()"
   ]
  },
  {
   "cell_type": "code",
   "execution_count": 16,
   "id": "93386658",
   "metadata": {},
   "outputs": [
    {
     "data": {
      "text/html": [
       "<div>\n",
       "<style scoped>\n",
       "    .dataframe tbody tr th:only-of-type {\n",
       "        vertical-align: middle;\n",
       "    }\n",
       "\n",
       "    .dataframe tbody tr th {\n",
       "        vertical-align: top;\n",
       "    }\n",
       "\n",
       "    .dataframe thead th {\n",
       "        text-align: right;\n",
       "    }\n",
       "</style>\n",
       "<table border=\"1\" class=\"dataframe\">\n",
       "  <thead>\n",
       "    <tr style=\"text-align: right;\">\n",
       "      <th></th>\n",
       "      <th>model</th>\n",
       "      <th>year</th>\n",
       "      <th>price</th>\n",
       "      <th>transmission</th>\n",
       "      <th>mileage</th>\n",
       "      <th>fuelType</th>\n",
       "      <th>tax</th>\n",
       "      <th>mpg</th>\n",
       "      <th>engineSize</th>\n",
       "    </tr>\n",
       "  </thead>\n",
       "  <tbody>\n",
       "    <tr>\n",
       "      <th>0</th>\n",
       "      <td>Fiesta</td>\n",
       "      <td>2017</td>\n",
       "      <td>981240.00</td>\n",
       "      <td>Automatic</td>\n",
       "      <td>15944</td>\n",
       "      <td>Petrol</td>\n",
       "      <td>150</td>\n",
       "      <td>57.7</td>\n",
       "      <td>1.0</td>\n",
       "    </tr>\n",
       "    <tr>\n",
       "      <th>1</th>\n",
       "      <td>Focus</td>\n",
       "      <td>2018</td>\n",
       "      <td>1144780.00</td>\n",
       "      <td>Manual</td>\n",
       "      <td>9083</td>\n",
       "      <td>Petrol</td>\n",
       "      <td>150</td>\n",
       "      <td>57.7</td>\n",
       "      <td>1.0</td>\n",
       "    </tr>\n",
       "    <tr>\n",
       "      <th>2</th>\n",
       "      <td>Focus</td>\n",
       "      <td>2017</td>\n",
       "      <td>1063010.00</td>\n",
       "      <td>Manual</td>\n",
       "      <td>12456</td>\n",
       "      <td>Petrol</td>\n",
       "      <td>150</td>\n",
       "      <td>57.7</td>\n",
       "      <td>1.0</td>\n",
       "    </tr>\n",
       "    <tr>\n",
       "      <th>3</th>\n",
       "      <td>Fiesta</td>\n",
       "      <td>2019</td>\n",
       "      <td>1430975.00</td>\n",
       "      <td>Manual</td>\n",
       "      <td>10460</td>\n",
       "      <td>Petrol</td>\n",
       "      <td>145</td>\n",
       "      <td>40.3</td>\n",
       "      <td>1.5</td>\n",
       "    </tr>\n",
       "    <tr>\n",
       "      <th>4</th>\n",
       "      <td>Fiesta</td>\n",
       "      <td>2019</td>\n",
       "      <td>1349205.00</td>\n",
       "      <td>Automatic</td>\n",
       "      <td>1482</td>\n",
       "      <td>Petrol</td>\n",
       "      <td>145</td>\n",
       "      <td>48.7</td>\n",
       "      <td>1.0</td>\n",
       "    </tr>\n",
       "    <tr>\n",
       "      <th>...</th>\n",
       "      <td>...</td>\n",
       "      <td>...</td>\n",
       "      <td>...</td>\n",
       "      <td>...</td>\n",
       "      <td>...</td>\n",
       "      <td>...</td>\n",
       "      <td>...</td>\n",
       "      <td>...</td>\n",
       "      <td>...</td>\n",
       "    </tr>\n",
       "    <tr>\n",
       "      <th>17961</th>\n",
       "      <td>B-MAX</td>\n",
       "      <td>2017</td>\n",
       "      <td>735848.23</td>\n",
       "      <td>Manual</td>\n",
       "      <td>16700</td>\n",
       "      <td>Petrol</td>\n",
       "      <td>150</td>\n",
       "      <td>47.1</td>\n",
       "      <td>1.4</td>\n",
       "    </tr>\n",
       "    <tr>\n",
       "      <th>17962</th>\n",
       "      <td>B-MAX</td>\n",
       "      <td>2014</td>\n",
       "      <td>613193.23</td>\n",
       "      <td>Manual</td>\n",
       "      <td>40700</td>\n",
       "      <td>Petrol</td>\n",
       "      <td>30</td>\n",
       "      <td>57.7</td>\n",
       "      <td>1.0</td>\n",
       "    </tr>\n",
       "    <tr>\n",
       "      <th>17963</th>\n",
       "      <td>Focus</td>\n",
       "      <td>2015</td>\n",
       "      <td>817618.23</td>\n",
       "      <td>Manual</td>\n",
       "      <td>7010</td>\n",
       "      <td>Diesel</td>\n",
       "      <td>20</td>\n",
       "      <td>67.3</td>\n",
       "      <td>1.6</td>\n",
       "    </tr>\n",
       "    <tr>\n",
       "      <th>17964</th>\n",
       "      <td>KA</td>\n",
       "      <td>2018</td>\n",
       "      <td>678609.23</td>\n",
       "      <td>Manual</td>\n",
       "      <td>5007</td>\n",
       "      <td>Petrol</td>\n",
       "      <td>145</td>\n",
       "      <td>57.7</td>\n",
       "      <td>1.2</td>\n",
       "    </tr>\n",
       "    <tr>\n",
       "      <th>17965</th>\n",
       "      <td>Focus</td>\n",
       "      <td>2015</td>\n",
       "      <td>678609.23</td>\n",
       "      <td>Manual</td>\n",
       "      <td>5007</td>\n",
       "      <td>Petrol</td>\n",
       "      <td>22</td>\n",
       "      <td>57.7</td>\n",
       "      <td>1.0</td>\n",
       "    </tr>\n",
       "  </tbody>\n",
       "</table>\n",
       "<p>17966 rows × 9 columns</p>\n",
       "</div>"
      ],
      "text/plain": [
       "         model  year       price transmission  mileage fuelType  tax   mpg  \\\n",
       "0       Fiesta  2017   981240.00    Automatic    15944   Petrol  150  57.7   \n",
       "1        Focus  2018  1144780.00       Manual     9083   Petrol  150  57.7   \n",
       "2        Focus  2017  1063010.00       Manual    12456   Petrol  150  57.7   \n",
       "3       Fiesta  2019  1430975.00       Manual    10460   Petrol  145  40.3   \n",
       "4       Fiesta  2019  1349205.00    Automatic     1482   Petrol  145  48.7   \n",
       "...        ...   ...         ...          ...      ...      ...  ...   ...   \n",
       "17961    B-MAX  2017   735848.23       Manual    16700   Petrol  150  47.1   \n",
       "17962    B-MAX  2014   613193.23       Manual    40700   Petrol   30  57.7   \n",
       "17963    Focus  2015   817618.23       Manual     7010   Diesel   20  67.3   \n",
       "17964       KA  2018   678609.23       Manual     5007   Petrol  145  57.7   \n",
       "17965    Focus  2015   678609.23       Manual     5007   Petrol   22  57.7   \n",
       "\n",
       "       engineSize  \n",
       "0             1.0  \n",
       "1             1.0  \n",
       "2             1.0  \n",
       "3             1.5  \n",
       "4             1.0  \n",
       "...           ...  \n",
       "17961         1.4  \n",
       "17962         1.0  \n",
       "17963         1.6  \n",
       "17964         1.2  \n",
       "17965         1.0  \n",
       "\n",
       "[17966 rows x 9 columns]"
      ]
     },
     "execution_count": 16,
     "metadata": {},
     "output_type": "execute_result"
    }
   ],
   "source": [
    "data"
   ]
  },
  {
   "cell_type": "code",
   "execution_count": 17,
   "id": "adbe76e6",
   "metadata": {},
   "outputs": [],
   "source": [
    "import sweetviz as sv"
   ]
  },
  {
   "cell_type": "code",
   "execution_count": 18,
   "id": "bbc7d0d3",
   "metadata": {},
   "outputs": [
    {
     "data": {
      "application/vnd.jupyter.widget-view+json": {
       "model_id": "4bd6c17ce17e42229743efd791447815",
       "version_major": 2,
       "version_minor": 0
      },
      "text/plain": [
       "                                             |      | [  0%]   00:00 -> (? left)"
      ]
     },
     "metadata": {},
     "output_type": "display_data"
    },
    {
     "name": "stdout",
     "output_type": "stream",
     "text": [
      "Report SWEETVIZ_REPORT.html was generated! NOTEBOOK/COLAB USERS: the web browser MAY not pop up, regardless, the report IS saved in your notebook/colab files.\n"
     ]
    }
   ],
   "source": [
    "my_report = sv.analyze(data)\n",
    "my_report.show_html()"
   ]
  },
  {
   "cell_type": "code",
   "execution_count": 19,
   "id": "af379653",
   "metadata": {},
   "outputs": [],
   "source": [
    "categorical_data=data[['model','transmission','fuelType']]\n",
    "numerical_data=data[['year','price','mileage','tax','mpg','engineSize']]"
   ]
  },
  {
   "cell_type": "code",
   "execution_count": 20,
   "id": "c7620424",
   "metadata": {},
   "outputs": [
    {
     "data": {
      "image/png": "[encoded data removed]",
      "text/plain": [
       "<Figure size 2000x2000 with 3 Axes>"
      ]
     },
     "metadata": {},
     "output_type": "display_data"
    }
   ],
   "source": [
    "#plotting numerical data\n",
    "plt.figure(figsize=(20,20))   #plotting the figure\n",
    "plotnumber=1                  #plotnumber\n",
    "for i in categorical_data:\n",
    "    plt.subplot(3,3,plotnumber)                               #subplot\n",
    "    sns.barplot(data=categorical_data,x=i,y=data['price'])    #using barplot for the data\n",
    "    plotnumber+=1                                             #plotnumber increment\n",
    "    plt.xticks(rotation=90)\n",
    "    plt.yticks(fontsize=15)\n",
    "    plt.xlabel(i,fontsize=15)\n",
    "    plt.ylabel(i,fontsize=15)\n",
    "plt.tight_layout()"
   ]
  },
  {
   "cell_type": "code",
   "execution_count": 21,
   "id": "8dfb9527",
   "metadata": {},
   "outputs": [
    {
     "data": {
      "image/png": "[encoded data removed]",
      "text/plain": [
       "<Figure size 2000x2000 with 6 Axes>"
      ]
     },
     "metadata": {},
     "output_type": "display_data"
    }
   ],
   "source": [
    "plt.figure(figsize=(20,20))\n",
    "plotnumber=1\n",
    "\n",
    "for i in numerical_data:\n",
    "    plt.subplot(3,3, plotnumber)\n",
    "    sns.barplot(data=numerical_data, x=i, y=data['price'])\n",
    "    plotnumber+=1\n",
    "    plt.xticks(rotation=90)\n",
    "    plt.yticks(fontsize=15)\n",
    "    plt.xlabel(i,fontsize=15)\n",
    "    plt.ylabel(i,fontsize=15)\n",
    "plt.tight_layout()"
   ]
  },
  {
   "cell_type": "code",
   "execution_count": 22,
   "id": "d7578b91",
   "metadata": {},
   "outputs": [
    {
     "data": {
      "text/plain": [
       "model           0\n",
       "year            0\n",
       "price           0\n",
       "transmission    0\n",
       "mileage         0\n",
       "fuelType        0\n",
       "tax             0\n",
       "mpg             0\n",
       "engineSize      0\n",
       "dtype: int64"
      ]
     },
     "execution_count": 22,
     "metadata": {},
     "output_type": "execute_result"
    }
   ],
   "source": [
    "data.isnull().sum()"
   ]
  },
  {
   "cell_type": "code",
   "execution_count": 23,
   "id": "c03c8bde",
   "metadata": {},
   "outputs": [
    {
     "data": {
      "image/png": "[encoded data removed]",
      "text/plain": [
       "<Figure size 2000x2000 with 6 Axes>"
      ]
     },
     "metadata": {},
     "output_type": "display_data"
    }
   ],
   "source": [
    "plt.figure(figsize=(20,20))\n",
    "plotnumber= 1\n",
    "\n",
    "for i in numerical_data:\n",
    "    plt.subplot(4,3, plotnumber)\n",
    "    sns.boxplot(data= numerical_data, x=i)\n",
    "    plotnumber+=1\n",
    "    plt.xlabel(i,fontsize=15)\n",
    "    plt.ylabel(i,fontsize=15)\n",
    "plt.tight_layout()"
   ]
  },
  {
   "cell_type": "code",
   "execution_count": 24,
   "id": "1b6f41bc",
   "metadata": {},
   "outputs": [],
   "source": [
    "from sklearn.preprocessing import LabelEncoder\n",
    "lc=LabelEncoder()\n",
    "data.model=lc.fit_transform(data.model)   #model','transmission','fuelType"
   ]
  },
  {
   "cell_type": "code",
   "execution_count": 25,
   "id": "48238ef1",
   "metadata": {},
   "outputs": [],
   "source": [
    "data.transmission=lc.fit_transform(data.transmission)\n",
    "data.fuelType=lc.fit_transform(data.fuelType)"
   ]
  },
  {
   "cell_type": "code",
   "execution_count": 26,
   "id": "e4f192ec",
   "metadata": {},
   "outputs": [
    {
     "data": {
      "text/html": [
       "<div>\n",
       "<style scoped>\n",
       "    .dataframe tbody tr th:only-of-type {\n",
       "        vertical-align: middle;\n",
       "    }\n",
       "\n",
       "    .dataframe tbody tr th {\n",
       "        vertical-align: top;\n",
       "    }\n",
       "\n",
       "    .dataframe thead th {\n",
       "        text-align: right;\n",
       "    }\n",
       "</style>\n",
       "<table border=\"1\" class=\"dataframe\">\n",
       "  <thead>\n",
       "    <tr style=\"text-align: right;\">\n",
       "      <th></th>\n",
       "      <th>model</th>\n",
       "      <th>year</th>\n",
       "      <th>price</th>\n",
       "      <th>transmission</th>\n",
       "      <th>mileage</th>\n",
       "      <th>fuelType</th>\n",
       "      <th>tax</th>\n",
       "      <th>mpg</th>\n",
       "      <th>engineSize</th>\n",
       "    </tr>\n",
       "  </thead>\n",
       "  <tbody>\n",
       "    <tr>\n",
       "      <th>0</th>\n",
       "      <td>5</td>\n",
       "      <td>2017</td>\n",
       "      <td>981240.00</td>\n",
       "      <td>0</td>\n",
       "      <td>15944</td>\n",
       "      <td>4</td>\n",
       "      <td>150</td>\n",
       "      <td>57.7</td>\n",
       "      <td>1.0</td>\n",
       "    </tr>\n",
       "    <tr>\n",
       "      <th>1</th>\n",
       "      <td>6</td>\n",
       "      <td>2018</td>\n",
       "      <td>1144780.00</td>\n",
       "      <td>1</td>\n",
       "      <td>9083</td>\n",
       "      <td>4</td>\n",
       "      <td>150</td>\n",
       "      <td>57.7</td>\n",
       "      <td>1.0</td>\n",
       "    </tr>\n",
       "    <tr>\n",
       "      <th>2</th>\n",
       "      <td>6</td>\n",
       "      <td>2017</td>\n",
       "      <td>1063010.00</td>\n",
       "      <td>1</td>\n",
       "      <td>12456</td>\n",
       "      <td>4</td>\n",
       "      <td>150</td>\n",
       "      <td>57.7</td>\n",
       "      <td>1.0</td>\n",
       "    </tr>\n",
       "    <tr>\n",
       "      <th>3</th>\n",
       "      <td>5</td>\n",
       "      <td>2019</td>\n",
       "      <td>1430975.00</td>\n",
       "      <td>1</td>\n",
       "      <td>10460</td>\n",
       "      <td>4</td>\n",
       "      <td>145</td>\n",
       "      <td>40.3</td>\n",
       "      <td>1.5</td>\n",
       "    </tr>\n",
       "    <tr>\n",
       "      <th>4</th>\n",
       "      <td>5</td>\n",
       "      <td>2019</td>\n",
       "      <td>1349205.00</td>\n",
       "      <td>0</td>\n",
       "      <td>1482</td>\n",
       "      <td>4</td>\n",
       "      <td>145</td>\n",
       "      <td>48.7</td>\n",
       "      <td>1.0</td>\n",
       "    </tr>\n",
       "    <tr>\n",
       "      <th>...</th>\n",
       "      <td>...</td>\n",
       "      <td>...</td>\n",
       "      <td>...</td>\n",
       "      <td>...</td>\n",
       "      <td>...</td>\n",
       "      <td>...</td>\n",
       "      <td>...</td>\n",
       "      <td>...</td>\n",
       "      <td>...</td>\n",
       "    </tr>\n",
       "    <tr>\n",
       "      <th>17961</th>\n",
       "      <td>0</td>\n",
       "      <td>2017</td>\n",
       "      <td>735848.23</td>\n",
       "      <td>1</td>\n",
       "      <td>16700</td>\n",
       "      <td>4</td>\n",
       "      <td>150</td>\n",
       "      <td>47.1</td>\n",
       "      <td>1.4</td>\n",
       "    </tr>\n",
       "    <tr>\n",
       "      <th>17962</th>\n",
       "      <td>0</td>\n",
       "      <td>2014</td>\n",
       "      <td>613193.23</td>\n",
       "      <td>1</td>\n",
       "      <td>40700</td>\n",
       "      <td>4</td>\n",
       "      <td>30</td>\n",
       "      <td>57.7</td>\n",
       "      <td>1.0</td>\n",
       "    </tr>\n",
       "    <tr>\n",
       "      <th>17963</th>\n",
       "      <td>6</td>\n",
       "      <td>2015</td>\n",
       "      <td>817618.23</td>\n",
       "      <td>1</td>\n",
       "      <td>7010</td>\n",
       "      <td>0</td>\n",
       "      <td>20</td>\n",
       "      <td>67.3</td>\n",
       "      <td>1.6</td>\n",
       "    </tr>\n",
       "    <tr>\n",
       "      <th>17964</th>\n",
       "      <td>11</td>\n",
       "      <td>2018</td>\n",
       "      <td>678609.23</td>\n",
       "      <td>1</td>\n",
       "      <td>5007</td>\n",
       "      <td>4</td>\n",
       "      <td>145</td>\n",
       "      <td>57.7</td>\n",
       "      <td>1.2</td>\n",
       "    </tr>\n",
       "    <tr>\n",
       "      <th>17965</th>\n",
       "      <td>23</td>\n",
       "      <td>2015</td>\n",
       "      <td>678609.23</td>\n",
       "      <td>1</td>\n",
       "      <td>5007</td>\n",
       "      <td>4</td>\n",
       "      <td>22</td>\n",
       "      <td>57.7</td>\n",
       "      <td>1.0</td>\n",
       "    </tr>\n",
       "  </tbody>\n",
       "</table>\n",
       "<p>17966 rows × 9 columns</p>\n",
       "</div>"
      ],
      "text/plain": [
       "       model  year       price  transmission  mileage  fuelType  tax   mpg  \\\n",
       "0          5  2017   981240.00             0    15944         4  150  57.7   \n",
       "1          6  2018  1144780.00             1     9083         4  150  57.7   \n",
       "2          6  2017  1063010.00             1    12456         4  150  57.7   \n",
       "3          5  2019  1430975.00             1    10460         4  145  40.3   \n",
       "4          5  2019  1349205.00             0     1482         4  145  48.7   \n",
       "...      ...   ...         ...           ...      ...       ...  ...   ...   \n",
       "17961      0  2017   735848.23             1    16700         4  150  47.1   \n",
       "17962      0  2014   613193.23             1    40700         4   30  57.7   \n",
       "17963      6  2015   817618.23             1     7010         0   20  67.3   \n",
       "17964     11  2018   678609.23             1     5007         4  145  57.7   \n",
       "17965     23  2015   678609.23             1     5007         4   22  57.7   \n",
       "\n",
       "       engineSize  \n",
       "0             1.0  \n",
       "1             1.0  \n",
       "2             1.0  \n",
       "3             1.5  \n",
       "4             1.0  \n",
       "...           ...  \n",
       "17961         1.4  \n",
       "17962         1.0  \n",
       "17963         1.6  \n",
       "17964         1.2  \n",
       "17965         1.0  \n",
       "\n",
       "[17966 rows x 9 columns]"
      ]
     },
     "execution_count": 26,
     "metadata": {},
     "output_type": "execute_result"
    }
   ],
   "source": [
    "data"
   ]
  },
  {
   "cell_type": "code",
   "execution_count": 27,
   "id": "9a62d188",
   "metadata": {},
   "outputs": [
    {
     "data": {
      "text/plain": [
       "array([4, 0, 2, 1, 3])"
      ]
     },
     "execution_count": 27,
     "metadata": {},
     "output_type": "execute_result"
    }
   ],
   "source": [
    "data.fuelType.unique()"
   ]
  },
  {
   "cell_type": "code",
   "execution_count": 28,
   "id": "c12f5a9a",
   "metadata": {},
   "outputs": [
    {
     "data": {
      "text/plain": [
       "array([ 5,  6, 16, 13,  2,  1, 14, 12, 21, 18,  0,  3, 20,  9, 11,  8, 15,\n",
       "       10,  7, 17, 19,  4, 22, 23])"
      ]
     },
     "execution_count": 28,
     "metadata": {},
     "output_type": "execute_result"
    }
   ],
   "source": [
    "data.model.unique()"
   ]
  },
  {
   "cell_type": "code",
   "execution_count": 29,
   "id": "06b38f81",
   "metadata": {},
   "outputs": [
    {
     "data": {
      "text/plain": [
       "array([0, 1, 2])"
      ]
     },
     "execution_count": 29,
     "metadata": {},
     "output_type": "execute_result"
    }
   ],
   "source": [
    "data.transmission.unique()"
   ]
  },
  {
   "cell_type": "code",
   "execution_count": 30,
   "id": "1ebce821",
   "metadata": {},
   "outputs": [
    {
     "data": {
      "text/html": [
       "<div>\n",
       "<style scoped>\n",
       "    .dataframe tbody tr th:only-of-type {\n",
       "        vertical-align: middle;\n",
       "    }\n",
       "\n",
       "    .dataframe tbody tr th {\n",
       "        vertical-align: top;\n",
       "    }\n",
       "\n",
       "    .dataframe thead th {\n",
       "        text-align: right;\n",
       "    }\n",
       "</style>\n",
       "<table border=\"1\" class=\"dataframe\">\n",
       "  <thead>\n",
       "    <tr style=\"text-align: right;\">\n",
       "      <th></th>\n",
       "      <th>model</th>\n",
       "      <th>year</th>\n",
       "      <th>price</th>\n",
       "      <th>transmission</th>\n",
       "      <th>mileage</th>\n",
       "      <th>fuelType</th>\n",
       "      <th>tax</th>\n",
       "      <th>mpg</th>\n",
       "      <th>engineSize</th>\n",
       "    </tr>\n",
       "  </thead>\n",
       "  <tbody>\n",
       "    <tr>\n",
       "      <th>model</th>\n",
       "      <td>1.000000</td>\n",
       "      <td>0.030241</td>\n",
       "      <td>0.314736</td>\n",
       "      <td>-0.063395</td>\n",
       "      <td>0.078765</td>\n",
       "      <td>-0.388704</td>\n",
       "      <td>0.183490</td>\n",
       "      <td>-0.221959</td>\n",
       "      <td>0.500365</td>\n",
       "    </tr>\n",
       "    <tr>\n",
       "      <th>year</th>\n",
       "      <td>0.030241</td>\n",
       "      <td>1.000000</td>\n",
       "      <td>0.636009</td>\n",
       "      <td>-0.017120</td>\n",
       "      <td>-0.707818</td>\n",
       "      <td>0.087954</td>\n",
       "      <td>0.298506</td>\n",
       "      <td>-0.022967</td>\n",
       "      <td>-0.137311</td>\n",
       "    </tr>\n",
       "    <tr>\n",
       "      <th>price</th>\n",
       "      <td>0.314736</td>\n",
       "      <td>0.636009</td>\n",
       "      <td>1.000000</td>\n",
       "      <td>-0.058034</td>\n",
       "      <td>-0.530659</td>\n",
       "      <td>-0.202855</td>\n",
       "      <td>0.406857</td>\n",
       "      <td>-0.346419</td>\n",
       "      <td>0.411178</td>\n",
       "    </tr>\n",
       "    <tr>\n",
       "      <th>transmission</th>\n",
       "      <td>-0.063395</td>\n",
       "      <td>-0.017120</td>\n",
       "      <td>-0.058034</td>\n",
       "      <td>1.000000</td>\n",
       "      <td>0.016649</td>\n",
       "      <td>-0.005116</td>\n",
       "      <td>-0.053305</td>\n",
       "      <td>0.056084</td>\n",
       "      <td>-0.026486</td>\n",
       "    </tr>\n",
       "    <tr>\n",
       "      <th>mileage</th>\n",
       "      <td>0.078765</td>\n",
       "      <td>-0.707818</td>\n",
       "      <td>-0.530659</td>\n",
       "      <td>0.016649</td>\n",
       "      <td>1.000000</td>\n",
       "      <td>-0.257557</td>\n",
       "      <td>-0.260451</td>\n",
       "      <td>0.120075</td>\n",
       "      <td>0.215035</td>\n",
       "    </tr>\n",
       "    <tr>\n",
       "      <th>fuelType</th>\n",
       "      <td>-0.388704</td>\n",
       "      <td>0.087954</td>\n",
       "      <td>-0.202855</td>\n",
       "      <td>-0.005116</td>\n",
       "      <td>-0.257557</td>\n",
       "      <td>1.000000</td>\n",
       "      <td>0.129586</td>\n",
       "      <td>-0.297796</td>\n",
       "      <td>-0.644619</td>\n",
       "    </tr>\n",
       "    <tr>\n",
       "      <th>tax</th>\n",
       "      <td>0.183490</td>\n",
       "      <td>0.298506</td>\n",
       "      <td>0.406857</td>\n",
       "      <td>-0.053305</td>\n",
       "      <td>-0.260451</td>\n",
       "      <td>0.129586</td>\n",
       "      <td>1.000000</td>\n",
       "      <td>-0.502980</td>\n",
       "      <td>0.184363</td>\n",
       "    </tr>\n",
       "    <tr>\n",
       "      <th>mpg</th>\n",
       "      <td>-0.221959</td>\n",
       "      <td>-0.022967</td>\n",
       "      <td>-0.346419</td>\n",
       "      <td>0.056084</td>\n",
       "      <td>0.120075</td>\n",
       "      <td>-0.297796</td>\n",
       "      <td>-0.502980</td>\n",
       "      <td>1.000000</td>\n",
       "      <td>-0.260521</td>\n",
       "    </tr>\n",
       "    <tr>\n",
       "      <th>engineSize</th>\n",
       "      <td>0.500365</td>\n",
       "      <td>-0.137311</td>\n",
       "      <td>0.411178</td>\n",
       "      <td>-0.026486</td>\n",
       "      <td>0.215035</td>\n",
       "      <td>-0.644619</td>\n",
       "      <td>0.184363</td>\n",
       "      <td>-0.260521</td>\n",
       "      <td>1.000000</td>\n",
       "    </tr>\n",
       "  </tbody>\n",
       "</table>\n",
       "</div>"
      ],
      "text/plain": [
       "                 model      year     price  transmission   mileage  fuelType  \\\n",
       "model         1.000000  0.030241  0.314736     -0.063395  0.078765 -0.388704   \n",
       "year          0.030241  1.000000  0.636009     -0.017120 -0.707818  0.087954   \n",
       "price         0.314736  0.636009  1.000000     -0.058034 -0.530659 -0.202855   \n",
       "transmission -0.063395 -0.017120 -0.058034      1.000000  0.016649 -0.005116   \n",
       "mileage       0.078765 -0.707818 -0.530659      0.016649  1.000000 -0.257557   \n",
       "fuelType     -0.388704  0.087954 -0.202855     -0.005116 -0.257557  1.000000   \n",
       "tax           0.183490  0.298506  0.406857     -0.053305 -0.260451  0.129586   \n",
       "mpg          -0.221959 -0.022967 -0.346419      0.056084  0.120075 -0.297796   \n",
       "engineSize    0.500365 -0.137311  0.411178     -0.026486  0.215035 -0.644619   \n",
       "\n",
       "                   tax       mpg  engineSize  \n",
       "model         0.183490 -0.221959    0.500365  \n",
       "year          0.298506 -0.022967   -0.137311  \n",
       "price         0.406857 -0.346419    0.411178  \n",
       "transmission -0.053305  0.056084   -0.026486  \n",
       "mileage      -0.260451  0.120075    0.215035  \n",
       "fuelType      0.129586 -0.297796   -0.644619  \n",
       "tax           1.000000 -0.502980    0.184363  \n",
       "mpg          -0.502980  1.000000   -0.260521  \n",
       "engineSize    0.184363 -0.260521    1.000000  "
      ]
     },
     "execution_count": 30,
     "metadata": {},
     "output_type": "execute_result"
    }
   ],
   "source": [
    "data.corr()"
   ]
  },
  {
   "cell_type": "code",
   "execution_count": 31,
   "id": "615cc727",
   "metadata": {},
   "outputs": [
    {
     "data": {
      "text/plain": [
       "<AxesSubplot:>"
      ]
     },
     "execution_count": 31,
     "metadata": {},
     "output_type": "execute_result"
    },
    {
     "data": {
      "image/png": "[encoded data removed]",
      "text/plain": [
       "<Figure size 640x480 with 2 Axes>"
      ]
     },
     "metadata": {},
     "output_type": "display_data"
    }
   ],
   "source": [
    "sns.heatmap(data.corr(), annot= True)"
   ]
  },
  {
   "cell_type": "code",
   "execution_count": 32,
   "id": "656d763e",
   "metadata": {},
   "outputs": [
    {
     "data": {
      "text/plain": [
       "Index(['model', 'year', 'price', 'transmission', 'mileage', 'fuelType', 'tax',\n",
       "       'mpg', 'engineSize'],\n",
       "      dtype='object')"
      ]
     },
     "execution_count": 32,
     "metadata": {},
     "output_type": "execute_result"
    }
   ],
   "source": [
    "data.columns"
   ]
  },
  {
   "cell_type": "code",
   "execution_count": 33,
   "id": "074eb64a",
   "metadata": {},
   "outputs": [],
   "source": [
    "from sklearn.preprocessing import MinMaxScaler\n",
    "scale=MinMaxScaler()\n",
    "data[['model','year','transmission','mileage','fuelType','tax','mpg','engineSize','price']]=scale.fit_transform(data[['model','year','transmission','mileage','fuelType','tax','mpg','engineSize','price']])"
   ]
  },
  {
   "cell_type": "code",
   "execution_count": 34,
   "id": "1bfcbdbc",
   "metadata": {},
   "outputs": [
    {
     "data": {
      "text/html": [
       "<div>\n",
       "<style scoped>\n",
       "    .dataframe tbody tr th:only-of-type {\n",
       "        vertical-align: middle;\n",
       "    }\n",
       "\n",
       "    .dataframe tbody tr th {\n",
       "        vertical-align: top;\n",
       "    }\n",
       "\n",
       "    .dataframe thead th {\n",
       "        text-align: right;\n",
       "    }\n",
       "</style>\n",
       "<table border=\"1\" class=\"dataframe\">\n",
       "  <thead>\n",
       "    <tr style=\"text-align: right;\">\n",
       "      <th></th>\n",
       "      <th>model</th>\n",
       "      <th>year</th>\n",
       "      <th>price</th>\n",
       "      <th>transmission</th>\n",
       "      <th>mileage</th>\n",
       "      <th>fuelType</th>\n",
       "      <th>tax</th>\n",
       "      <th>mpg</th>\n",
       "      <th>engineSize</th>\n",
       "    </tr>\n",
       "  </thead>\n",
       "  <tbody>\n",
       "    <tr>\n",
       "      <th>0</th>\n",
       "      <td>0.217391</td>\n",
       "      <td>0.328125</td>\n",
       "      <td>0.211101</td>\n",
       "      <td>0.0</td>\n",
       "      <td>0.089747</td>\n",
       "      <td>1.0</td>\n",
       "      <td>0.258621</td>\n",
       "      <td>0.203867</td>\n",
       "      <td>0.20</td>\n",
       "    </tr>\n",
       "    <tr>\n",
       "      <th>1</th>\n",
       "      <td>0.260870</td>\n",
       "      <td>0.343750</td>\n",
       "      <td>0.247798</td>\n",
       "      <td>0.5</td>\n",
       "      <td>0.051125</td>\n",
       "      <td>1.0</td>\n",
       "      <td>0.258621</td>\n",
       "      <td>0.203867</td>\n",
       "      <td>0.20</td>\n",
       "    </tr>\n",
       "    <tr>\n",
       "      <th>2</th>\n",
       "      <td>0.260870</td>\n",
       "      <td>0.328125</td>\n",
       "      <td>0.229450</td>\n",
       "      <td>0.5</td>\n",
       "      <td>0.070113</td>\n",
       "      <td>1.0</td>\n",
       "      <td>0.258621</td>\n",
       "      <td>0.203867</td>\n",
       "      <td>0.20</td>\n",
       "    </tr>\n",
       "    <tr>\n",
       "      <th>3</th>\n",
       "      <td>0.217391</td>\n",
       "      <td>0.359375</td>\n",
       "      <td>0.312018</td>\n",
       "      <td>0.5</td>\n",
       "      <td>0.058877</td>\n",
       "      <td>1.0</td>\n",
       "      <td>0.250000</td>\n",
       "      <td>0.107735</td>\n",
       "      <td>0.30</td>\n",
       "    </tr>\n",
       "    <tr>\n",
       "      <th>4</th>\n",
       "      <td>0.217391</td>\n",
       "      <td>0.359375</td>\n",
       "      <td>0.293670</td>\n",
       "      <td>0.0</td>\n",
       "      <td>0.008337</td>\n",
       "      <td>1.0</td>\n",
       "      <td>0.250000</td>\n",
       "      <td>0.154144</td>\n",
       "      <td>0.20</td>\n",
       "    </tr>\n",
       "    <tr>\n",
       "      <th>...</th>\n",
       "      <td>...</td>\n",
       "      <td>...</td>\n",
       "      <td>...</td>\n",
       "      <td>...</td>\n",
       "      <td>...</td>\n",
       "      <td>...</td>\n",
       "      <td>...</td>\n",
       "      <td>...</td>\n",
       "      <td>...</td>\n",
       "    </tr>\n",
       "    <tr>\n",
       "      <th>17961</th>\n",
       "      <td>0.000000</td>\n",
       "      <td>0.328125</td>\n",
       "      <td>0.156037</td>\n",
       "      <td>0.5</td>\n",
       "      <td>0.094003</td>\n",
       "      <td>1.0</td>\n",
       "      <td>0.258621</td>\n",
       "      <td>0.145304</td>\n",
       "      <td>0.28</td>\n",
       "    </tr>\n",
       "    <tr>\n",
       "      <th>17962</th>\n",
       "      <td>0.000000</td>\n",
       "      <td>0.281250</td>\n",
       "      <td>0.128514</td>\n",
       "      <td>0.5</td>\n",
       "      <td>0.229106</td>\n",
       "      <td>1.0</td>\n",
       "      <td>0.051724</td>\n",
       "      <td>0.203867</td>\n",
       "      <td>0.20</td>\n",
       "    </tr>\n",
       "    <tr>\n",
       "      <th>17963</th>\n",
       "      <td>0.260870</td>\n",
       "      <td>0.296875</td>\n",
       "      <td>0.174385</td>\n",
       "      <td>0.5</td>\n",
       "      <td>0.039456</td>\n",
       "      <td>0.0</td>\n",
       "      <td>0.034483</td>\n",
       "      <td>0.256906</td>\n",
       "      <td>0.32</td>\n",
       "    </tr>\n",
       "    <tr>\n",
       "      <th>17964</th>\n",
       "      <td>0.478261</td>\n",
       "      <td>0.343750</td>\n",
       "      <td>0.143193</td>\n",
       "      <td>0.5</td>\n",
       "      <td>0.028180</td>\n",
       "      <td>1.0</td>\n",
       "      <td>0.250000</td>\n",
       "      <td>0.203867</td>\n",
       "      <td>0.24</td>\n",
       "    </tr>\n",
       "    <tr>\n",
       "      <th>17965</th>\n",
       "      <td>1.000000</td>\n",
       "      <td>0.296875</td>\n",
       "      <td>0.143193</td>\n",
       "      <td>0.5</td>\n",
       "      <td>0.028180</td>\n",
       "      <td>1.0</td>\n",
       "      <td>0.037931</td>\n",
       "      <td>0.203867</td>\n",
       "      <td>0.20</td>\n",
       "    </tr>\n",
       "  </tbody>\n",
       "</table>\n",
       "<p>17966 rows × 9 columns</p>\n",
       "</div>"
      ],
      "text/plain": [
       "          model      year     price  transmission   mileage  fuelType  \\\n",
       "0      0.217391  0.328125  0.211101           0.0  0.089747       1.0   \n",
       "1      0.260870  0.343750  0.247798           0.5  0.051125       1.0   \n",
       "2      0.260870  0.328125  0.229450           0.5  0.070113       1.0   \n",
       "3      0.217391  0.359375  0.312018           0.5  0.058877       1.0   \n",
       "4      0.217391  0.359375  0.293670           0.0  0.008337       1.0   \n",
       "...         ...       ...       ...           ...       ...       ...   \n",
       "17961  0.000000  0.328125  0.156037           0.5  0.094003       1.0   \n",
       "17962  0.000000  0.281250  0.128514           0.5  0.229106       1.0   \n",
       "17963  0.260870  0.296875  0.174385           0.5  0.039456       0.0   \n",
       "17964  0.478261  0.343750  0.143193           0.5  0.028180       1.0   \n",
       "17965  1.000000  0.296875  0.143193           0.5  0.028180       1.0   \n",
       "\n",
       "            tax       mpg  engineSize  \n",
       "0      0.258621  0.203867        0.20  \n",
       "1      0.258621  0.203867        0.20  \n",
       "2      0.258621  0.203867        0.20  \n",
       "3      0.250000  0.107735        0.30  \n",
       "4      0.250000  0.154144        0.20  \n",
       "...         ...       ...         ...  \n",
       "17961  0.258621  0.145304        0.28  \n",
       "17962  0.051724  0.203867        0.20  \n",
       "17963  0.034483  0.256906        0.32  \n",
       "17964  0.250000  0.203867        0.24  \n",
       "17965  0.037931  0.203867        0.20  \n",
       "\n",
       "[17966 rows x 9 columns]"
      ]
     },
     "execution_count": 34,
     "metadata": {},
     "output_type": "execute_result"
    }
   ],
   "source": [
    "data"
   ]
  },
  {
   "cell_type": "code",
   "execution_count": 35,
   "id": "9337c695",
   "metadata": {},
   "outputs": [],
   "source": [
    "x=data[['model','year','transmission','mileage','fuelType','tax','mpg','engineSize']]"
   ]
  },
  {
   "cell_type": "code",
   "execution_count": 36,
   "id": "a72d0e57",
   "metadata": {},
   "outputs": [],
   "source": [
    "y=data['price']"
   ]
  },
  {
   "cell_type": "code",
   "execution_count": 37,
   "id": "0d4ac4f8",
   "metadata": {},
   "outputs": [],
   "source": [
    "from sklearn.model_selection import train_test_split\n",
    "x_train,x_test,y_train,y_test=train_test_split(x,y,random_state=42)"
   ]
  },
  {
   "cell_type": "code",
   "execution_count": 38,
   "id": "eb78fb10",
   "metadata": {},
   "outputs": [
    {
     "data": {
      "text/html": [
       "<div>\n",
       "<style scoped>\n",
       "    .dataframe tbody tr th:only-of-type {\n",
       "        vertical-align: middle;\n",
       "    }\n",
       "\n",
       "    .dataframe tbody tr th {\n",
       "        vertical-align: top;\n",
       "    }\n",
       "\n",
       "    .dataframe thead th {\n",
       "        text-align: right;\n",
       "    }\n",
       "</style>\n",
       "<table border=\"1\" class=\"dataframe\">\n",
       "  <thead>\n",
       "    <tr style=\"text-align: right;\">\n",
       "      <th></th>\n",
       "      <th>model</th>\n",
       "      <th>year</th>\n",
       "      <th>transmission</th>\n",
       "      <th>mileage</th>\n",
       "      <th>fuelType</th>\n",
       "      <th>tax</th>\n",
       "      <th>mpg</th>\n",
       "      <th>engineSize</th>\n",
       "    </tr>\n",
       "  </thead>\n",
       "  <tbody>\n",
       "    <tr>\n",
       "      <th>3678</th>\n",
       "      <td>0.217391</td>\n",
       "      <td>0.328125</td>\n",
       "      <td>0.5</td>\n",
       "      <td>0.110165</td>\n",
       "      <td>1.0</td>\n",
       "      <td>0.250000</td>\n",
       "      <td>0.248066</td>\n",
       "      <td>0.20</td>\n",
       "    </tr>\n",
       "    <tr>\n",
       "      <th>13528</th>\n",
       "      <td>0.260870</td>\n",
       "      <td>0.296875</td>\n",
       "      <td>0.5</td>\n",
       "      <td>0.084090</td>\n",
       "      <td>1.0</td>\n",
       "      <td>0.250000</td>\n",
       "      <td>0.149724</td>\n",
       "      <td>0.32</td>\n",
       "    </tr>\n",
       "    <tr>\n",
       "      <th>14204</th>\n",
       "      <td>0.043478</td>\n",
       "      <td>0.312500</td>\n",
       "      <td>0.5</td>\n",
       "      <td>0.191389</td>\n",
       "      <td>0.0</td>\n",
       "      <td>0.034483</td>\n",
       "      <td>0.265746</td>\n",
       "      <td>0.30</td>\n",
       "    </tr>\n",
       "    <tr>\n",
       "      <th>6467</th>\n",
       "      <td>0.260870</td>\n",
       "      <td>0.328125</td>\n",
       "      <td>0.5</td>\n",
       "      <td>0.163243</td>\n",
       "      <td>0.0</td>\n",
       "      <td>0.250000</td>\n",
       "      <td>0.295580</td>\n",
       "      <td>0.30</td>\n",
       "    </tr>\n",
       "    <tr>\n",
       "      <th>20</th>\n",
       "      <td>0.217391</td>\n",
       "      <td>0.343750</td>\n",
       "      <td>0.5</td>\n",
       "      <td>0.114831</td>\n",
       "      <td>1.0</td>\n",
       "      <td>0.250000</td>\n",
       "      <td>0.191160</td>\n",
       "      <td>0.22</td>\n",
       "    </tr>\n",
       "    <tr>\n",
       "      <th>...</th>\n",
       "      <td>...</td>\n",
       "      <td>...</td>\n",
       "      <td>...</td>\n",
       "      <td>...</td>\n",
       "      <td>...</td>\n",
       "      <td>...</td>\n",
       "      <td>...</td>\n",
       "      <td>...</td>\n",
       "    </tr>\n",
       "    <tr>\n",
       "      <th>11284</th>\n",
       "      <td>0.086957</td>\n",
       "      <td>0.343750</td>\n",
       "      <td>0.5</td>\n",
       "      <td>0.054035</td>\n",
       "      <td>1.0</td>\n",
       "      <td>0.250000</td>\n",
       "      <td>0.185083</td>\n",
       "      <td>0.20</td>\n",
       "    </tr>\n",
       "    <tr>\n",
       "      <th>11964</th>\n",
       "      <td>0.260870</td>\n",
       "      <td>0.343750</td>\n",
       "      <td>0.5</td>\n",
       "      <td>0.078455</td>\n",
       "      <td>1.0</td>\n",
       "      <td>0.250000</td>\n",
       "      <td>0.114365</td>\n",
       "      <td>0.40</td>\n",
       "    </tr>\n",
       "    <tr>\n",
       "      <th>5390</th>\n",
       "      <td>0.260870</td>\n",
       "      <td>0.343750</td>\n",
       "      <td>0.5</td>\n",
       "      <td>0.088115</td>\n",
       "      <td>0.0</td>\n",
       "      <td>0.250000</td>\n",
       "      <td>0.295580</td>\n",
       "      <td>0.30</td>\n",
       "    </tr>\n",
       "    <tr>\n",
       "      <th>860</th>\n",
       "      <td>0.565217</td>\n",
       "      <td>0.328125</td>\n",
       "      <td>1.0</td>\n",
       "      <td>0.150088</td>\n",
       "      <td>0.0</td>\n",
       "      <td>0.250000</td>\n",
       "      <td>0.185083</td>\n",
       "      <td>0.40</td>\n",
       "    </tr>\n",
       "    <tr>\n",
       "      <th>15795</th>\n",
       "      <td>0.217391</td>\n",
       "      <td>0.328125</td>\n",
       "      <td>0.5</td>\n",
       "      <td>0.062963</td>\n",
       "      <td>1.0</td>\n",
       "      <td>0.000000</td>\n",
       "      <td>0.248066</td>\n",
       "      <td>0.20</td>\n",
       "    </tr>\n",
       "  </tbody>\n",
       "</table>\n",
       "<p>13474 rows × 8 columns</p>\n",
       "</div>"
      ],
      "text/plain": [
       "          model      year  transmission   mileage  fuelType       tax  \\\n",
       "3678   0.217391  0.328125           0.5  0.110165       1.0  0.250000   \n",
       "13528  0.260870  0.296875           0.5  0.084090       1.0  0.250000   \n",
       "14204  0.043478  0.312500           0.5  0.191389       0.0  0.034483   \n",
       "6467   0.260870  0.328125           0.5  0.163243       0.0  0.250000   \n",
       "20     0.217391  0.343750           0.5  0.114831       1.0  0.250000   \n",
       "...         ...       ...           ...       ...       ...       ...   \n",
       "11284  0.086957  0.343750           0.5  0.054035       1.0  0.250000   \n",
       "11964  0.260870  0.343750           0.5  0.078455       1.0  0.250000   \n",
       "5390   0.260870  0.343750           0.5  0.088115       0.0  0.250000   \n",
       "860    0.565217  0.328125           1.0  0.150088       0.0  0.250000   \n",
       "15795  0.217391  0.328125           0.5  0.062963       1.0  0.000000   \n",
       "\n",
       "            mpg  engineSize  \n",
       "3678   0.248066        0.20  \n",
       "13528  0.149724        0.32  \n",
       "14204  0.265746        0.30  \n",
       "6467   0.295580        0.30  \n",
       "20     0.191160        0.22  \n",
       "...         ...         ...  \n",
       "11284  0.185083        0.20  \n",
       "11964  0.114365        0.40  \n",
       "5390   0.295580        0.30  \n",
       "860    0.185083        0.40  \n",
       "15795  0.248066        0.20  \n",
       "\n",
       "[13474 rows x 8 columns]"
      ]
     },
     "execution_count": 38,
     "metadata": {},
     "output_type": "execute_result"
    }
   ],
   "source": [
    "x_train"
   ]
  },
  {
   "cell_type": "code",
   "execution_count": 39,
   "id": "547ec612",
   "metadata": {},
   "outputs": [
    {
     "data": {
      "text/html": [
       "<div>\n",
       "<style scoped>\n",
       "    .dataframe tbody tr th:only-of-type {\n",
       "        vertical-align: middle;\n",
       "    }\n",
       "\n",
       "    .dataframe tbody tr th {\n",
       "        vertical-align: top;\n",
       "    }\n",
       "\n",
       "    .dataframe thead th {\n",
       "        text-align: right;\n",
       "    }\n",
       "</style>\n",
       "<table border=\"1\" class=\"dataframe\">\n",
       "  <thead>\n",
       "    <tr style=\"text-align: right;\">\n",
       "      <th></th>\n",
       "      <th>model</th>\n",
       "      <th>year</th>\n",
       "      <th>transmission</th>\n",
       "      <th>mileage</th>\n",
       "      <th>fuelType</th>\n",
       "      <th>tax</th>\n",
       "      <th>mpg</th>\n",
       "      <th>engineSize</th>\n",
       "    </tr>\n",
       "  </thead>\n",
       "  <tbody>\n",
       "    <tr>\n",
       "      <th>17610</th>\n",
       "      <td>0.217391</td>\n",
       "      <td>0.281250</td>\n",
       "      <td>0.5</td>\n",
       "      <td>0.122673</td>\n",
       "      <td>1.0</td>\n",
       "      <td>0.000000</td>\n",
       "      <td>0.248066</td>\n",
       "      <td>0.20</td>\n",
       "    </tr>\n",
       "    <tr>\n",
       "      <th>7076</th>\n",
       "      <td>0.217391</td>\n",
       "      <td>0.328125</td>\n",
       "      <td>0.5</td>\n",
       "      <td>0.163356</td>\n",
       "      <td>1.0</td>\n",
       "      <td>0.258621</td>\n",
       "      <td>0.248066</td>\n",
       "      <td>0.20</td>\n",
       "    </tr>\n",
       "    <tr>\n",
       "      <th>1713</th>\n",
       "      <td>0.260870</td>\n",
       "      <td>0.296875</td>\n",
       "      <td>0.5</td>\n",
       "      <td>0.259813</td>\n",
       "      <td>0.0</td>\n",
       "      <td>0.034483</td>\n",
       "      <td>0.256906</td>\n",
       "      <td>0.32</td>\n",
       "    </tr>\n",
       "    <tr>\n",
       "      <th>1611</th>\n",
       "      <td>0.000000</td>\n",
       "      <td>0.265625</td>\n",
       "      <td>0.5</td>\n",
       "      <td>0.242256</td>\n",
       "      <td>1.0</td>\n",
       "      <td>0.051724</td>\n",
       "      <td>0.191160</td>\n",
       "      <td>0.20</td>\n",
       "    </tr>\n",
       "    <tr>\n",
       "      <th>16830</th>\n",
       "      <td>0.608696</td>\n",
       "      <td>0.203125</td>\n",
       "      <td>0.5</td>\n",
       "      <td>0.444707</td>\n",
       "      <td>0.0</td>\n",
       "      <td>0.344828</td>\n",
       "      <td>0.154144</td>\n",
       "      <td>0.36</td>\n",
       "    </tr>\n",
       "    <tr>\n",
       "      <th>...</th>\n",
       "      <td>...</td>\n",
       "      <td>...</td>\n",
       "      <td>...</td>\n",
       "      <td>...</td>\n",
       "      <td>...</td>\n",
       "      <td>...</td>\n",
       "      <td>...</td>\n",
       "      <td>...</td>\n",
       "    </tr>\n",
       "    <tr>\n",
       "      <th>275</th>\n",
       "      <td>0.260870</td>\n",
       "      <td>0.312500</td>\n",
       "      <td>0.5</td>\n",
       "      <td>0.245560</td>\n",
       "      <td>1.0</td>\n",
       "      <td>0.034483</td>\n",
       "      <td>0.224309</td>\n",
       "      <td>0.20</td>\n",
       "    </tr>\n",
       "    <tr>\n",
       "      <th>10945</th>\n",
       "      <td>0.217391</td>\n",
       "      <td>0.359375</td>\n",
       "      <td>0.5</td>\n",
       "      <td>0.038245</td>\n",
       "      <td>1.0</td>\n",
       "      <td>0.250000</td>\n",
       "      <td>0.197238</td>\n",
       "      <td>0.20</td>\n",
       "    </tr>\n",
       "    <tr>\n",
       "      <th>3576</th>\n",
       "      <td>0.260870</td>\n",
       "      <td>0.343750</td>\n",
       "      <td>0.5</td>\n",
       "      <td>0.112073</td>\n",
       "      <td>1.0</td>\n",
       "      <td>0.250000</td>\n",
       "      <td>0.169061</td>\n",
       "      <td>0.30</td>\n",
       "    </tr>\n",
       "    <tr>\n",
       "      <th>8670</th>\n",
       "      <td>0.260870</td>\n",
       "      <td>0.343750</td>\n",
       "      <td>0.5</td>\n",
       "      <td>0.260551</td>\n",
       "      <td>1.0</td>\n",
       "      <td>0.258621</td>\n",
       "      <td>0.114365</td>\n",
       "      <td>0.40</td>\n",
       "    </tr>\n",
       "    <tr>\n",
       "      <th>12663</th>\n",
       "      <td>0.260870</td>\n",
       "      <td>0.343750</td>\n",
       "      <td>0.5</td>\n",
       "      <td>0.000692</td>\n",
       "      <td>1.0</td>\n",
       "      <td>0.250000</td>\n",
       "      <td>0.217127</td>\n",
       "      <td>0.20</td>\n",
       "    </tr>\n",
       "  </tbody>\n",
       "</table>\n",
       "<p>4492 rows × 8 columns</p>\n",
       "</div>"
      ],
      "text/plain": [
       "          model      year  transmission   mileage  fuelType       tax  \\\n",
       "17610  0.217391  0.281250           0.5  0.122673       1.0  0.000000   \n",
       "7076   0.217391  0.328125           0.5  0.163356       1.0  0.258621   \n",
       "1713   0.260870  0.296875           0.5  0.259813       0.0  0.034483   \n",
       "1611   0.000000  0.265625           0.5  0.242256       1.0  0.051724   \n",
       "16830  0.608696  0.203125           0.5  0.444707       0.0  0.344828   \n",
       "...         ...       ...           ...       ...       ...       ...   \n",
       "275    0.260870  0.312500           0.5  0.245560       1.0  0.034483   \n",
       "10945  0.217391  0.359375           0.5  0.038245       1.0  0.250000   \n",
       "3576   0.260870  0.343750           0.5  0.112073       1.0  0.250000   \n",
       "8670   0.260870  0.343750           0.5  0.260551       1.0  0.258621   \n",
       "12663  0.260870  0.343750           0.5  0.000692       1.0  0.250000   \n",
       "\n",
       "            mpg  engineSize  \n",
       "17610  0.248066        0.20  \n",
       "7076   0.248066        0.20  \n",
       "1713   0.256906        0.32  \n",
       "1611   0.191160        0.20  \n",
       "16830  0.154144        0.36  \n",
       "...         ...         ...  \n",
       "275    0.224309        0.20  \n",
       "10945  0.197238        0.20  \n",
       "3576   0.169061        0.30  \n",
       "8670   0.114365        0.40  \n",
       "12663  0.217127        0.20  \n",
       "\n",
       "[4492 rows x 8 columns]"
      ]
     },
     "execution_count": 39,
     "metadata": {},
     "output_type": "execute_result"
    }
   ],
   "source": [
    "x_test"
   ]
  },
  {
   "cell_type": "code",
   "execution_count": 40,
   "id": "c2863472",
   "metadata": {},
   "outputs": [
    {
     "data": {
      "text/plain": [
       "3678     0.174220\n",
       "13528    0.118991\n",
       "14204    0.179725\n",
       "6467     0.192752\n",
       "20       0.165211\n",
       "           ...   \n",
       "11284    0.264294\n",
       "11964    0.330275\n",
       "5390     0.210183\n",
       "860      0.284459\n",
       "15795    0.168899\n",
       "Name: price, Length: 13474, dtype: float64"
      ]
     },
     "execution_count": 40,
     "metadata": {},
     "output_type": "execute_result"
    }
   ],
   "source": [
    "y_train"
   ]
  },
  {
   "cell_type": "code",
   "execution_count": 41,
   "id": "01cac11f",
   "metadata": {},
   "outputs": [
    {
     "data": {
      "text/plain": [
       "17610    0.119266\n",
       "7076     0.156037\n",
       "1713     0.137670\n",
       "1611     0.091670\n",
       "16830    0.060459\n",
       "           ...   \n",
       "275      0.156018\n",
       "10945    0.225761\n",
       "3576     0.243945\n",
       "8670     0.280642\n",
       "12663    0.284495\n",
       "Name: price, Length: 4492, dtype: float64"
      ]
     },
     "execution_count": 41,
     "metadata": {},
     "output_type": "execute_result"
    }
   ],
   "source": [
    "y_test"
   ]
  },
  {
   "cell_type": "code",
   "execution_count": 42,
   "id": "f06827c2",
   "metadata": {},
   "outputs": [
    {
     "name": "stdout",
     "output_type": "stream",
     "text": [
      "(13474, 8)\n",
      "(4492, 8)\n",
      "(13474,)\n",
      "(4492,)\n"
     ]
    }
   ],
   "source": [
    "print(x_train.shape)\n",
    "print(x_test.shape)\n",
    "print(y_train.shape)\n",
    "print(y_test.shape)"
   ]
  },
  {
   "cell_type": "code",
   "execution_count": 43,
   "id": "37b286aa",
   "metadata": {},
   "outputs": [
    {
     "data": {
      "text/plain": [
       "LinearRegression()"
      ]
     },
     "execution_count": 43,
     "metadata": {},
     "output_type": "execute_result"
    }
   ],
   "source": [
    "from sklearn.linear_model import LinearRegression\n",
    "LR=LinearRegression()\n",
    "LR.fit(x_train,y_train) #fit the values"
   ]
  },
  {
   "cell_type": "code",
   "execution_count": 44,
   "id": "ecd2b70c",
   "metadata": {},
   "outputs": [
    {
     "data": {
      "text/plain": [
       "array([0.10377778, 0.16232116, 0.1649629 , ..., 0.26054399, 0.28678731,\n",
       "       0.22908256])"
      ]
     },
     "execution_count": 44,
     "metadata": {},
     "output_type": "execute_result"
    }
   ],
   "source": [
    "LR.predict(x_test)"
   ]
  },
  {
   "cell_type": "code",
   "execution_count": 45,
   "id": "fa67f6d8",
   "metadata": {},
   "outputs": [
    {
     "data": {
      "text/plain": [
       "array([0.10377778, 0.16232116, 0.1649629 , ..., 0.26054399, 0.28678731,\n",
       "       0.22908256])"
      ]
     },
     "execution_count": 45,
     "metadata": {},
     "output_type": "execute_result"
    }
   ],
   "source": [
    "y_pred=LR.predict(x_test)\n",
    "y_pred"
   ]
  },
  {
   "cell_type": "code",
   "execution_count": 46,
   "id": "a36eae35",
   "metadata": {},
   "outputs": [
    {
     "data": {
      "text/plain": [
       "array([ 0.01137973,  1.37792766, -0.01073765, -0.20708913, -0.02574027,\n",
       "        0.00919479, -0.35973664,  0.37235947])"
      ]
     },
     "execution_count": 46,
     "metadata": {},
     "output_type": "execute_result"
    }
   ],
   "source": [
    "LR.coef_"
   ]
  },
  {
   "cell_type": "code",
   "execution_count": 47,
   "id": "ce094d92",
   "metadata": {},
   "outputs": [
    {
     "data": {
      "text/plain": [
       "-0.21495823801671735"
      ]
     },
     "execution_count": 47,
     "metadata": {},
     "output_type": "execute_result"
    }
   ],
   "source": [
    "LR.intercept_"
   ]
  },
  {
   "cell_type": "code",
   "execution_count": 48,
   "id": "1203bc4b",
   "metadata": {},
   "outputs": [],
   "source": [
    "from sklearn.metrics import r2_score,mean_squared_error,mean_absolute_error\n",
    "r2_score=r2_score(y_test,y_pred)"
   ]
  },
  {
   "cell_type": "code",
   "execution_count": 49,
   "id": "859b8ee2",
   "metadata": {},
   "outputs": [
    {
     "data": {
      "text/plain": [
       "0.7264154132038376"
      ]
     },
     "execution_count": 49,
     "metadata": {},
     "output_type": "execute_result"
    }
   ],
   "source": [
    "r2_score"
   ]
  },
  {
   "cell_type": "code",
   "execution_count": 50,
   "id": "ecb50c16",
   "metadata": {},
   "outputs": [
    {
     "data": {
      "text/plain": [
       "0.002104817079468431"
      ]
     },
     "execution_count": 50,
     "metadata": {},
     "output_type": "execute_result"
    }
   ],
   "source": [
    "mse=mean_squared_error(y_test,y_pred)\n",
    "mse"
   ]
  },
  {
   "cell_type": "code",
   "execution_count": 51,
   "id": "a296a582",
   "metadata": {},
   "outputs": [
    {
     "data": {
      "text/plain": [
       "0.03264373286205433"
      ]
     },
     "execution_count": 51,
     "metadata": {},
     "output_type": "execute_result"
    }
   ],
   "source": [
    "mse=mean_absolute_error(y_test,y_pred)\n",
    "mse"
   ]
  },
  {
   "cell_type": "code",
   "execution_count": 52,
   "id": "654e8428",
   "metadata": {},
   "outputs": [
    {
     "data": {
      "text/plain": [
       "0.18067576722420284"
      ]
     },
     "execution_count": 52,
     "metadata": {},
     "output_type": "execute_result"
    }
   ],
   "source": [
    "import math\n",
    "rmse=math.sqrt(mse)\n",
    "rmse"
   ]
  },
  {
   "cell_type": "code",
   "execution_count": 53,
   "id": "af3d410c",
   "metadata": {},
   "outputs": [
    {
     "data": {
      "text/plain": [
       "0.7036166976374907"
      ]
     },
     "execution_count": 53,
     "metadata": {},
     "output_type": "execute_result"
    }
   ],
   "source": [
    "adjusted_r2=1-(1-r2_score)*(40-1)/(40-3-1)\n",
    "adjusted_r2"
   ]
  },
  {
   "cell_type": "code",
   "execution_count": 54,
   "id": "b0e11ab7",
   "metadata": {},
   "outputs": [
    {
     "data": {
      "text/plain": [
       "KNeighborsRegressor()"
      ]
     },
     "execution_count": 54,
     "metadata": {},
     "output_type": "execute_result"
    }
   ],
   "source": [
    "from sklearn.neighbors import KNeighborsRegressor    #importing KNN Regressor\n",
    "KNR=KNeighborsRegressor()                            #object creation for KNN regressor\n",
    "KNR.fit(x_train,y_train) "
   ]
  },
  {
   "cell_type": "code",
   "execution_count": 55,
   "id": "fc8d70c7",
   "metadata": {},
   "outputs": [
    {
     "data": {
      "text/plain": [
       "array([0.14315229, 0.14970642, 0.13813578, ..., 0.21444037, 0.27342018,\n",
       "       0.27084404])"
      ]
     },
     "execution_count": 55,
     "metadata": {},
     "output_type": "execute_result"
    }
   ],
   "source": [
    "y_pred=KNR.predict(x_test)     #predicting x_test data\n",
    "y_pred"
   ]
  },
  {
   "cell_type": "code",
   "execution_count": 56,
   "id": "41c9be8e",
   "metadata": {},
   "outputs": [
    {
     "data": {
      "text/plain": [
       "0.9082953906765973"
      ]
     },
     "execution_count": 56,
     "metadata": {},
     "output_type": "execute_result"
    }
   ],
   "source": [
    "from sklearn.metrics import r2_score,mean_squared_error,mean_absolute_error     #importing evaluation metrics\n",
    "r2_score=r2_score(y_test,y_pred)                                                #r2_score of KNN regressor\n",
    "r2_score"
   ]
  },
  {
   "cell_type": "code",
   "execution_count": 57,
   "id": "2ca91003",
   "metadata": {},
   "outputs": [
    {
     "data": {
      "text/plain": [
       "0.0007055274210812586"
      ]
     },
     "execution_count": 57,
     "metadata": {},
     "output_type": "execute_result"
    }
   ],
   "source": [
    "mse=mean_squared_error(y_test,y_pred)    #mean_square_error of KNN regressor\n",
    "mse "
   ]
  },
  {
   "cell_type": "code",
   "execution_count": 58,
   "id": "394e2afe",
   "metadata": {},
   "outputs": [
    {
     "data": {
      "text/plain": [
       "0.01698376481737156"
      ]
     },
     "execution_count": 58,
     "metadata": {},
     "output_type": "execute_result"
    }
   ],
   "source": [
    "mae=mean_absolute_error(y_test,y_pred)   #mean_absolute_error of KNN regressor\n",
    "mae"
   ]
  },
  {
   "cell_type": "code",
   "execution_count": 59,
   "id": "9f69e008",
   "metadata": {},
   "outputs": [
    {
     "data": {
      "text/plain": [
       "0.026561766151392465"
      ]
     },
     "execution_count": 59,
     "metadata": {},
     "output_type": "execute_result"
    }
   ],
   "source": [
    "import math\n",
    "rmse=math.sqrt(mse)    #rmse value of KNN regressor\n",
    "rmse"
   ]
  },
  {
   "cell_type": "code",
   "execution_count": 60,
   "id": "f60a2c76",
   "metadata": {},
   "outputs": [
    {
     "data": {
      "text/plain": [
       "0.8127697559647195"
      ]
     },
     "execution_count": 60,
     "metadata": {},
     "output_type": "execute_result"
    }
   ],
   "source": [
    "adjusted_r2=1-(1-r2_score)*(50-1)/(50-25-1)    ##adjusted r2 score of KNN regressor\n",
    "adjusted_r2"
   ]
  },
  {
   "cell_type": "code",
   "execution_count": 61,
   "id": "82c5990d",
   "metadata": {},
   "outputs": [
    {
     "data": {
      "text/plain": [
       "XGBRegressor(base_score=None, booster=None, callbacks=None,\n",
       "             colsample_bylevel=None, colsample_bynode=None,\n",
       "             colsample_bytree=None, early_stopping_rounds=None,\n",
       "             enable_categorical=False, eval_metric=None, feature_types=None,\n",
       "             gamma=None, gpu_id=None, grow_policy=None, importance_type=None,\n",
       "             interaction_constraints=None, learning_rate=None, max_bin=None,\n",
       "             max_cat_threshold=None, max_cat_to_onehot=None,\n",
       "             max_delta_step=None, max_depth=None, max_leaves=None,\n",
       "             min_child_weight=None, missing=nan, monotone_constraints=None,\n",
       "             n_estimators=100, n_jobs=None, num_parallel_tree=None,\n",
       "             predictor=None, random_state=None, ...)"
      ]
     },
     "execution_count": 61,
     "metadata": {},
     "output_type": "execute_result"
    }
   ],
   "source": [
    "from xgboost import XGBRegressor         #importing XGB regressor\n",
    "xgb_r=XGBRegressor()                     #object creation for XGB regressor\n",
    "xgb_r.fit(x_train,y_train)               #fitting training data"
   ]
  },
  {
   "cell_type": "code",
   "execution_count": 62,
   "id": "eec61e07",
   "metadata": {},
   "outputs": [
    {
     "data": {
      "text/plain": [
       "array([0.13339524, 0.1606622 , 0.14516573, ..., 0.25598228, 0.27698913,\n",
       "       0.27558556], dtype=float32)"
      ]
     },
     "execution_count": 62,
     "metadata": {},
     "output_type": "execute_result"
    }
   ],
   "source": [
    "y_pred=xgb_r.predict(x_test)   #predicting x_test data\n",
    "y_pred"
   ]
  },
  {
   "cell_type": "code",
   "execution_count": 63,
   "id": "c02d77e7",
   "metadata": {},
   "outputs": [
    {
     "data": {
      "text/plain": [
       "0.9306619508457112"
      ]
     },
     "execution_count": 63,
     "metadata": {},
     "output_type": "execute_result"
    }
   ],
   "source": [
    "from sklearn.metrics import r2_score,mean_squared_error,mean_absolute_error   #importing evaluation metrics\n",
    "r2_score=r2_score(y_test,y_pred)   #r2_score of XGB regressor\n",
    "r2_score"
   ]
  },
  {
   "cell_type": "code",
   "execution_count": 64,
   "id": "413e0cd6",
   "metadata": {},
   "outputs": [
    {
     "data": {
      "text/plain": [
       "0.0005334507759594877"
      ]
     },
     "execution_count": 64,
     "metadata": {},
     "output_type": "execute_result"
    }
   ],
   "source": [
    "mse=mean_squared_error(y_test,y_pred)   #mean_square_error of XGB regressor\n",
    "mse"
   ]
  },
  {
   "cell_type": "code",
   "execution_count": 65,
   "id": "9554d8e7",
   "metadata": {},
   "outputs": [
    {
     "data": {
      "text/plain": [
       "0.015109847595020964"
      ]
     },
     "execution_count": 65,
     "metadata": {},
     "output_type": "execute_result"
    }
   ],
   "source": [
    "mae=mean_absolute_error(y_test,y_pred)  #mean_absolute_error of XGB regressor\n",
    "mae"
   ]
  },
  {
   "cell_type": "code",
   "execution_count": 66,
   "id": "898ba5e5",
   "metadata": {},
   "outputs": [
    {
     "data": {
      "text/plain": [
       "0.023096553335064687"
      ]
     },
     "execution_count": 66,
     "metadata": {},
     "output_type": "execute_result"
    }
   ],
   "source": [
    "import math\n",
    "rmse=math.sqrt(mse) #rmse value of XGB regressor\n",
    "rmse"
   ]
  },
  {
   "cell_type": "code",
   "execution_count": 67,
   "id": "7264fd2e",
   "metadata": {},
   "outputs": [
    {
     "data": {
      "text/plain": [
       "0.8584348163099937"
      ]
     },
     "execution_count": 67,
     "metadata": {},
     "output_type": "execute_result"
    }
   ],
   "source": [
    "adjusted_r2=1-(1-r2_score)*(50-1)/(50-25-1)  #adjusted r2_score of XGB regressor\n",
    "adjusted_r2"
   ]
  },
  {
   "cell_type": "code",
   "execution_count": 68,
   "id": "bbb2ab55",
   "metadata": {},
   "outputs": [
    {
     "data": {
      "text/plain": [
       "DecisionTreeRegressor()"
      ]
     },
     "execution_count": 68,
     "metadata": {},
     "output_type": "execute_result"
    }
   ],
   "source": [
    "from sklearn.tree import DecisionTreeRegressor   #importing decision tree regressor from sklearn.tree\n",
    "DTR=DecisionTreeRegressor()                      #object creation for decision tree regressor\n",
    "DTR.fit(x_train,y_train)                         #fitting training data"
   ]
  },
  {
   "cell_type": "code",
   "execution_count": 69,
   "id": "fc710af8",
   "metadata": {},
   "outputs": [
    {
     "data": {
      "text/plain": [
       "array([0.13770642, 0.12833028, 0.13766972, ..., 0.21201835, 0.24761468,\n",
       "       0.37614679])"
      ]
     },
     "execution_count": 69,
     "metadata": {},
     "output_type": "execute_result"
    }
   ],
   "source": [
    "y_pred=DTR.predict(x_test)  #predicting x_test data\n",
    "y_pred"
   ]
  },
  {
   "cell_type": "code",
   "execution_count": 70,
   "id": "86b3f03f",
   "metadata": {},
   "outputs": [
    {
     "data": {
      "text/plain": [
       "0.8842400522687125"
      ]
     },
     "execution_count": 70,
     "metadata": {},
     "output_type": "execute_result"
    }
   ],
   "source": [
    "from sklearn.metrics import r2_score,mean_squared_error,mean_absolute_error #importing evaluation metrics\n",
    "r2_score=r2_score(y_test,y_pred) #r2_score of decision tree regressor\n",
    "r2_score"
   ]
  },
  {
   "cell_type": "code",
   "execution_count": 71,
   "id": "772f75a2",
   "metadata": {},
   "outputs": [
    {
     "data": {
      "text/plain": [
       "0.0008905966449225595"
      ]
     },
     "execution_count": 71,
     "metadata": {},
     "output_type": "execute_result"
    }
   ],
   "source": [
    "mse=mean_squared_error(y_test,y_pred)           #mean_square_error of decision tree regressor\n",
    "mse"
   ]
  },
  {
   "cell_type": "code",
   "execution_count": 72,
   "id": "36095455",
   "metadata": {},
   "outputs": [
    {
     "data": {
      "text/plain": [
       "0.019668144659482988"
      ]
     },
     "execution_count": 72,
     "metadata": {},
     "output_type": "execute_result"
    }
   ],
   "source": [
    "mae=mean_absolute_error(y_test,y_pred)           #mean_square_error of decision tree regressor\n",
    "mae"
   ]
  },
  {
   "cell_type": "code",
   "execution_count": 73,
   "id": "a2eee404",
   "metadata": {},
   "outputs": [
    {
     "data": {
      "text/plain": [
       "0.029842865896601813"
      ]
     },
     "execution_count": 73,
     "metadata": {},
     "output_type": "execute_result"
    }
   ],
   "source": [
    "import math  \n",
    "rmse=math.sqrt(mse) #rmse value of decision tree regressor\n",
    "rmse"
   ]
  },
  {
   "cell_type": "code",
   "execution_count": 74,
   "id": "9700be76",
   "metadata": {},
   "outputs": [
    {
     "data": {
      "text/plain": [
       "0.7636567733819547"
      ]
     },
     "execution_count": 74,
     "metadata": {},
     "output_type": "execute_result"
    }
   ],
   "source": [
    "adjusted_r2=1-(1-r2_score)*(50-1)/(50-25-1) #adjusted_r2_score of decision tree regressor\n",
    "adjusted_r2"
   ]
  },
  {
   "cell_type": "code",
   "execution_count": 75,
   "id": "bc0161f8",
   "metadata": {},
   "outputs": [
    {
     "data": {
      "text/plain": [
       "RandomForestRegressor()"
      ]
     },
     "execution_count": 75,
     "metadata": {},
     "output_type": "execute_result"
    }
   ],
   "source": [
    "from sklearn.ensemble import RandomForestRegressor    #importing random forest regressor\n",
    "rf= RandomForestRegressor(n_estimators=100)           #object creation for random forest regressor\n",
    "rf.fit(x_train,y_train)                               #fitting training data"
   ]
  },
  {
   "cell_type": "code",
   "execution_count": 76,
   "id": "1633058c",
   "metadata": {},
   "outputs": [
    {
     "data": {
      "text/plain": [
       "array([0.1384011 , 0.14091743, 0.13740936, ..., 0.2156778 , 0.27482092,\n",
       "       0.31372275])"
      ]
     },
     "execution_count": 76,
     "metadata": {},
     "output_type": "execute_result"
    }
   ],
   "source": [
    "y_pred=rf.predict(x_test) #predicting x_test data\n",
    "y_pred"
   ]
  },
  {
   "cell_type": "code",
   "execution_count": 77,
   "id": "970ee234",
   "metadata": {},
   "outputs": [
    {
     "data": {
      "text/plain": [
       "0.9201927993617708"
      ]
     },
     "execution_count": 77,
     "metadata": {},
     "output_type": "execute_result"
    }
   ],
   "source": [
    "from sklearn.metrics import r2_score,mean_squared_error,mean_absolute_error  #importing evaluation metrics\n",
    "r2_score=r2_score(y_test,y_pred) #r2_score of random forest regressor\n",
    "r2_score"
   ]
  },
  {
   "cell_type": "code",
   "execution_count": 78,
   "id": "f4373e24",
   "metadata": {},
   "outputs": [
    {
     "data": {
      "text/plain": [
       "0.0006139949656340256"
      ]
     },
     "execution_count": 78,
     "metadata": {},
     "output_type": "execute_result"
    }
   ],
   "source": [
    "mse=mean_squared_error(y_test,y_pred)          #mean_square_error of random forest regressor\n",
    "mse"
   ]
  },
  {
   "cell_type": "code",
   "execution_count": 79,
   "id": "60329e13",
   "metadata": {},
   "outputs": [
    {
     "data": {
      "text/plain": [
       "0.01618601186174253"
      ]
     },
     "execution_count": 79,
     "metadata": {},
     "output_type": "execute_result"
    }
   ],
   "source": [
    "mae=mean_absolute_error(y_test,y_pred)        #mean_absolute_error of random forest regressor\n",
    "mae"
   ]
  },
  {
   "cell_type": "code",
   "execution_count": 80,
   "id": "1570bcd9",
   "metadata": {},
   "outputs": [
    {
     "data": {
      "text/plain": [
       "0.02477892180128154"
      ]
     },
     "execution_count": 80,
     "metadata": {},
     "output_type": "execute_result"
    }
   ],
   "source": [
    "import math\n",
    "rmse=math.sqrt(mse)                          #rmse value of random forest regressor\n",
    "rmse"
   ]
  },
  {
   "cell_type": "code",
   "execution_count": 81,
   "id": "83135687",
   "metadata": {},
   "outputs": [
    {
     "data": {
      "text/plain": [
       "0.8370602986969486"
      ]
     },
     "execution_count": 81,
     "metadata": {},
     "output_type": "execute_result"
    }
   ],
   "source": [
    "adjusted_r2=1-(1-r2_score)*(50-1)/(50-25-1)  #adjusted r2_score of random forest regressor\n",
    "adjusted_r2"
   ]
  },
  {
   "cell_type": "code",
   "execution_count": 83,
   "id": "13d9dace",
   "metadata": {},
   "outputs": [
    {
     "name": "stdout",
     "output_type": "stream",
     "text": [
      "Collecting prettytable\n",
      "  Downloading prettytable-3.7.0-py3-none-any.whl (27 kB)\n",
      "Requirement already satisfied: wcwidth in ./opt/anaconda3/lib/python3.9/site-packages (from prettytable) (0.2.5)\n",
      "Installing collected packages: prettytable\n",
      "Successfully installed prettytable-3.7.0\n",
      "Note: you may need to restart the kernel to use updated packages.\n"
     ]
    }
   ],
   "source": [
    "pip install prettytable"
   ]
  },
  {
   "cell_type": "code",
   "execution_count": 84,
   "id": "d5b7295c",
   "metadata": {},
   "outputs": [],
   "source": [
    "from prettytable import PrettyTable\n",
    "x=PrettyTable()"
   ]
  },
  {
   "cell_type": "code",
   "execution_count": 85,
   "id": "cd9c1995",
   "metadata": {},
   "outputs": [],
   "source": [
    "x.field_names = [\"Model\",\"adjusted_r2_score\"]\n",
    "x.add_row([\"Linear Regression\",\"70%\"])\n",
    "x.add_row([\"KNN Regressor\",\"81%\"])\n",
    "x.add_row([\"Gradient Boosting Regressor\",\"96%\"])\n",
    "x.add_row([\"XG Boosting Regressor\",\"85%\"])\n",
    "x.add_row([\"Decision Tree Regressor\", \"76%\"])\n",
    "x.add_row([\"Random Forest Regressor\",\"83%\"])"
   ]
  },
  {
   "cell_type": "code",
   "execution_count": 86,
   "id": "ccd929b9",
   "metadata": {},
   "outputs": [
    {
     "name": "stdout",
     "output_type": "stream",
     "text": [
      "+-----------------------------+-------------------+\n",
      "|            Model            | adjusted_r2_score |\n",
      "+-----------------------------+-------------------+\n",
      "|      Linear Regression      |        70%        |\n",
      "|        KNN Regressor        |        81%        |\n",
      "| Gradient Boosting Regressor |        96%        |\n",
      "|    XG Boosting Regressor    |        85%        |\n",
      "|   Decision Tree Regressor   |        76%        |\n",
      "|   Random Forest Regressor   |        83%        |\n",
      "+-----------------------------+-------------------+\n"
     ]
    }
   ],
   "source": [
    "print(x)"
   ]
  },
  {
   "cell_type": "code",
   "execution_count": null,
   "id": "88777bdb",
   "metadata": {},
   "outputs": [],
   "source": []
  }
 ],
 "metadata": {
  "kernelspec": {
   "display_name": "Python 3 (ipykernel)",
   "language": "python",
   "name": "python3"
  },
  "language_info": {
   "codemirror_mode": {
    "name": "ipython",
    "version": 3
   },
   "file_extension": ".py",
   "mimetype": "text/x-python",
   "name": "python",
   "nbconvert_exporter": "python",
   "pygments_lexer": "ipython3",
   "version": "3.9.13"
  }
 },
 "nbformat": 4,
 "nbformat_minor": 5
}
